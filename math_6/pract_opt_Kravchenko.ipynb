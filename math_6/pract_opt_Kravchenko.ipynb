{
 "cells": [
  {
   "cell_type": "markdown",
   "metadata": {
    "id": "NyHIGVhfa_Wf"
   },
   "source": [
    "# Стохастический градиентный и координатный спуски"
   ]
  },
  {
   "cell_type": "markdown",
   "metadata": {
    "id": "gn6lluIADUKa"
   },
   "source": [
    "Для каждого задания указано количество баллов (если они оцениваются отдельно) + 1 балл за аккуратное и полное выполнение всего задания"
   ]
  },
  {
   "cell_type": "markdown",
   "metadata": {
    "id": "txCccYvha_Wv"
   },
   "source": [
    "## Загрузка и подготовка данных"
   ]
  },
  {
   "cell_type": "code",
   "execution_count": 28,
   "outputs": [],
   "source": [
    "import pandas as pd\n",
    "import numpy as np\n",
    "import matplotlib.pyplot as plt\n",
    "\n",
    "from sklearn.linear_model import LinearRegression\n",
    "\n",
    "from IPython.display import display\n",
    "np.set_printoptions(suppress=True)"
   ],
   "metadata": {
    "collapsed": false,
    "pycharm": {
     "name": "#%%\n"
    }
   }
  },
  {
   "cell_type": "markdown",
   "metadata": {
    "id": "NbyOzeZ6a_Wx"
   },
   "source": [
    "**Загрузите уже знакомый вам файл *Advertising.csv* как объект DataFrame.**"
   ]
  },
  {
   "cell_type": "code",
   "execution_count": 29,
   "metadata": {
    "id": "E1L4_xeDa_Wz"
   },
   "outputs": [
    {
     "data": {
      "text/plain": "       TV  radio  newspaper  sales\n1 230.100 37.800     69.200 22.100\n2  44.500 39.300     45.100 10.400\n3  17.200 45.900     69.300  9.300\n4 151.500 41.300     58.500 18.500\n5 180.800 10.800     58.400 12.900",
      "text/html": "<div>\n<style scoped>\n    .dataframe tbody tr th:only-of-type {\n        vertical-align: middle;\n    }\n\n    .dataframe tbody tr th {\n        vertical-align: top;\n    }\n\n    .dataframe thead th {\n        text-align: right;\n    }\n</style>\n<table border=\"1\" class=\"dataframe\">\n  <thead>\n    <tr style=\"text-align: right;\">\n      <th></th>\n      <th>TV</th>\n      <th>radio</th>\n      <th>newspaper</th>\n      <th>sales</th>\n    </tr>\n  </thead>\n  <tbody>\n    <tr>\n      <th>1</th>\n      <td>230.100</td>\n      <td>37.800</td>\n      <td>69.200</td>\n      <td>22.100</td>\n    </tr>\n    <tr>\n      <th>2</th>\n      <td>44.500</td>\n      <td>39.300</td>\n      <td>45.100</td>\n      <td>10.400</td>\n    </tr>\n    <tr>\n      <th>3</th>\n      <td>17.200</td>\n      <td>45.900</td>\n      <td>69.300</td>\n      <td>9.300</td>\n    </tr>\n    <tr>\n      <th>4</th>\n      <td>151.500</td>\n      <td>41.300</td>\n      <td>58.500</td>\n      <td>18.500</td>\n    </tr>\n    <tr>\n      <th>5</th>\n      <td>180.800</td>\n      <td>10.800</td>\n      <td>58.400</td>\n      <td>12.900</td>\n    </tr>\n  </tbody>\n</table>\n</div>"
     },
     "execution_count": 29,
     "metadata": {},
     "output_type": "execute_result"
    }
   ],
   "source": [
    "pd.set_option('display.float_format', '{:.3f}'.format)\n",
    "\n",
    "df = pd.read_csv('Advertising.csv', index_col=0)\n",
    "df.head()"
   ]
  },
  {
   "cell_type": "markdown",
   "metadata": {
    "id": "bf4aVFndDUKf"
   },
   "source": [
    "**Проверьте, есть ли в данных пропуски и, если они есть - удалите их**"
   ]
  },
  {
   "cell_type": "code",
   "execution_count": 30,
   "metadata": {
    "id": "tiVeFnR5DUKg"
   },
   "outputs": [
    {
     "name": "stdout",
     "output_type": "stream",
     "text": [
      "<class 'pandas.core.frame.DataFrame'>\n",
      "Int64Index: 200 entries, 1 to 200\n",
      "Data columns (total 4 columns):\n",
      " #   Column     Non-Null Count  Dtype  \n",
      "---  ------     --------------  -----  \n",
      " 0   TV         200 non-null    float64\n",
      " 1   radio      200 non-null    float64\n",
      " 2   newspaper  200 non-null    float64\n",
      " 3   sales      200 non-null    float64\n",
      "dtypes: float64(4)\n",
      "memory usage: 7.8 KB\n"
     ]
    },
    {
     "data": {
      "text/plain": "None"
     },
     "metadata": {},
     "output_type": "display_data"
    }
   ],
   "source": [
    "display(df.info())"
   ]
  },
  {
   "cell_type": "markdown",
   "metadata": {
    "id": "rTkiqPr_DUKh"
   },
   "source": [
    "**Преобразуйте ваши признаки в массивы NumPy и разделите их на переменные X (предикторы) и y(целевая переменная)** "
   ]
  },
  {
   "cell_type": "code",
   "execution_count": 31,
   "metadata": {
    "id": "R9OHIRB3a_Xa"
   },
   "outputs": [],
   "source": [
    "X = df[['TV', 'radio', 'newspaper']].to_numpy(dtype='float')\n",
    "y = df['sales'].to_numpy(dtype='float')"
   ]
  },
  {
   "cell_type": "markdown",
   "metadata": {
    "id": "KCvjSoHEDUKo"
   },
   "source": [
    "## Координатный спуск (3 балла)"
   ]
  },
  {
   "cell_type": "markdown",
   "metadata": {
    "id": "yjNm8dATDUKq"
   },
   "source": [
    "**Добавим единичный столбец для того, чтобы у нас был свободный коэффициент в уравнении регрессии:**"
   ]
  },
  {
   "cell_type": "code",
   "execution_count": 32,
   "metadata": {
    "id": "LMgq0fmKDUKr"
   },
   "outputs": [
    {
     "data": {
      "text/plain": "array([[  1. , 230.1,  37.8,  69.2],\n       [  1. ,  44.5,  39.3,  45.1],\n       [  1. ,  17.2,  45.9,  69.3],\n       [  1. , 151.5,  41.3,  58.5],\n       [  1. , 180.8,  10.8,  58.4],\n       [  1. ,   8.7,  48.9,  75. ],\n       [  1. ,  57.5,  32.8,  23.5],\n       [  1. , 120.2,  19.6,  11.6],\n       [  1. ,   8.6,   2.1,   1. ],\n       [  1. , 199.8,   2.6,  21.2]])"
     },
     "execution_count": 32,
     "metadata": {},
     "output_type": "execute_result"
    }
   ],
   "source": [
    "X = np.hstack([np.ones(X.shape[0]).reshape(-1, 1), X])\n",
    "X[:10]"
   ]
  },
  {
   "cell_type": "markdown",
   "metadata": {
    "id": "R008OQwcDUKt"
   },
   "source": [
    "**Нормализуем данные: обычно это необходимо для корректной работы алгоритма**"
   ]
  },
  {
   "cell_type": "code",
   "execution_count": 33,
   "metadata": {
    "id": "2Sk7Wx-SDUKt"
   },
   "outputs": [],
   "source": [
    "X = X / np.sqrt(np.sum(np.square(X), axis=0))"
   ]
  },
  {
   "cell_type": "markdown",
   "metadata": {
    "id": "F_pHHbAdDUKu"
   },
   "source": [
    "**Реализуйте алгоритм координатного спуска:** (3 балла)\n",
    "\n",
    "Ниже приведен алгоритм:"
   ]
  },
  {
   "cell_type": "markdown",
   "metadata": {
    "id": "jBQ8vT5UDUKu"
   },
   "source": [
    "<a href=\"https://ibb.co/Th3BQFn\"><img src=\"https://i.ibb.co/DK2DBS6/zascas.jpg\" alt=\"zascas\" border=\"0\"></a>"
   ]
  },
  {
   "cell_type": "markdown",
   "metadata": {
    "id": "5ce_yM20DUKv"
   },
   "source": [
    "Примечание: 1000 итераций здесь указаны для этого задания, на самом деле их может быть намного больше, нет детерменированного значения."
   ]
  },
  {
   "cell_type": "markdown",
   "metadata": {
    "id": "y3IdiHm9DUKv"
   },
   "source": [
    "Вам необходимо реализовать координатный спуск, и вывести веса в модели линейной регрессии."
   ]
  },
  {
   "cell_type": "code",
   "execution_count": 34,
   "metadata": {
    "id": "Vsi3d9OfDUKw"
   },
   "outputs": [],
   "source": [
    "# создаем нулевой вектор весов:\n",
    "w = [0.0, 0.0, 0.0, 0.0]\n",
    "\n",
    "# реализуем шаги алгоритма:\n",
    "r = y - X @ w\n",
    "\n",
    "for i in range(1000):\n",
    "    for j in range(len(w)):\n",
    "        r = r + X[:,j] * w[j]\n",
    "        w[j] = X[:,j] @ r\n",
    "        r = r - X[:,j] * w[j]\n",
    "\n",
    "\n",
    "# запомним вектор весов, чтобы в конце сравнить показатели\n",
    "w_coord_desc = w"
   ]
  },
  {
   "cell_type": "markdown",
   "metadata": {
    "id": "a3jG-7UADUKx"
   },
   "source": [
    "Сравните результаты с реализацией линейной регрессии из библиотеки sklearn:"
   ]
  },
  {
   "cell_type": "code",
   "execution_count": 35,
   "metadata": {
    "id": "SBl-1Yb5DUKy"
   },
   "outputs": [
    {
     "name": "stdout",
     "output_type": "stream",
     "text": [
      "Сравним результаты:\n",
      "\n",
      "Вектор коэффициентов, полученных методом координатного спуска:\n",
      "[ 41.56217 110.13144  73.52861  -0.55006] \n",
      "\n",
      "Вектор коэффициентов из модели линейной регрессии:\n",
      "[ 41.56217 110.13144  73.52861  -0.55006]\n"
     ]
    }
   ],
   "source": [
    "model = LinearRegression(fit_intercept=False)\n",
    "model.fit(X, y)\n",
    "\n",
    "print('Сравним результаты:\\n')\n",
    "\n",
    "print('Вектор коэффициентов, полученных методом координатного спуска:')\n",
    "print(np.round(w_coord_desc, 5), '\\n')\n",
    "\n",
    "print('Вектор коэффициентов из модели линейной регрессии:')\n",
    "print(np.round(model.coef_, 5))"
   ]
  },
  {
   "cell_type": "markdown",
   "metadata": {
    "id": "hIl0AGLyDUKy"
   },
   "source": [
    "Если вы все сделали верно, они должны практически совпасть!"
   ]
  },
  {
   "cell_type": "markdown",
   "metadata": {
    "id": "VCGwFnPdDUKz"
   },
   "source": [
    "## Стохастический градиентный спуск (6 баллов)"
   ]
  },
  {
   "cell_type": "markdown",
   "metadata": {
    "id": "5u7Q2YJla_Xk"
   },
   "source": [
    "**Отмасштабируйте столбцы исходной матрицы *X* (которую мы не нормализовали еще!). Для того, чтобы это сделать, надо вычесть из каждого значения среднее и разделить на стандартное отклонение** (0.5 баллов)"
   ]
  },
  {
   "cell_type": "code",
   "execution_count": 36,
   "metadata": {
    "id": "9cEpV_5La_Xo"
   },
   "outputs": [
    {
     "name": "stdout",
     "output_type": "stream",
     "text": [
      "TV           0.000\n",
      "radio       -0.000\n",
      "newspaper    0.000\n",
      "dtype: float64\n",
      "TV          1.000\n",
      "radio       1.000\n",
      "newspaper   1.000\n",
      "dtype: float64\n"
     ]
    }
   ],
   "source": [
    "X = df[['TV', 'radio', 'newspaper']]\n",
    "X = (X-X.mean())/X.std()\n",
    "\n",
    "# убедимся, что среднее значение и стандартное отклонение каждого столбца равны 0 и 1 соответственно:\n",
    "print(X.mean())\n",
    "print(X.std())\n",
    "\n",
    "X = X.to_numpy(dtype='float')"
   ]
  },
  {
   "cell_type": "markdown",
   "metadata": {
    "id": "8WkNYILHDUK1"
   },
   "source": [
    "**Добавим единичный столбец**"
   ]
  },
  {
   "cell_type": "code",
   "execution_count": 37,
   "metadata": {
    "id": "EVl5tEGtDUK1"
   },
   "outputs": [],
   "source": [
    "X = np.hstack([np.ones(X.shape[0]).reshape(-1, 1), X])"
   ]
  },
  {
   "cell_type": "markdown",
   "metadata": {
    "id": "m53tZA5fDUK1"
   },
   "source": [
    "**Создайте функцию mse_error для вычисления среднеквадратичной ошибки, принимающую два аргумента: реальные значения и предсказывающие, и возвращающую значение mse** (0.5 балла)"
   ]
  },
  {
   "cell_type": "code",
   "execution_count": 38,
   "metadata": {
    "id": "0cvtC08Aa_YK"
   },
   "outputs": [],
   "source": [
    "def mse_error(y_true, y_pred):\n",
    "    return np.mean((y_true - y_pred) ** 2)"
   ]
  },
  {
   "cell_type": "markdown",
   "metadata": {
    "id": "lpOLhdvBDUK2"
   },
   "source": [
    "**Сделайте наивный прогноз: предскажите продажи средним значением. После этого рассчитайте среднеквадратичную ошибку для этого прогноза** (0.5 балла)"
   ]
  },
  {
   "cell_type": "code",
   "execution_count": 39,
   "metadata": {
    "id": "kLV_XljVa_YZ"
   },
   "outputs": [
    {
     "name": "stdout",
     "output_type": "stream",
     "text": [
      "Cреднеквадратичная ошибка для наивного прогноза: 27.086\n"
     ]
    }
   ],
   "source": [
    "# наивный прогноз:\n",
    "y_naive = [np.mean(y)] * len(y)\n",
    "\n",
    "# среднеквадратичная ошибка для этого прогноза:\n",
    "mse_naive = mse_error(y, y_naive)\n",
    "\n",
    "print(f'Cреднеквадратичная ошибка для наивного прогноза: {round(mse_naive, 3)}')"
   ]
  },
  {
   "cell_type": "markdown",
   "metadata": {
    "id": "BbybL2ola_ZM"
   },
   "source": [
    "**Создайте функцию *lin_pred*, которая может по матрице предикторов *X* и вектору весов линейной модели *w* получить вектор прогнозов** (0.5 балла)"
   ]
  },
  {
   "cell_type": "code",
   "execution_count": 40,
   "metadata": {
    "id": "1Cyz-Luaa_ZO"
   },
   "outputs": [],
   "source": [
    "# поскольку ранее в матрицу предикторов был добавлен единичный столбец,\n",
    "# ориентируемся на этот размер матрицы:\n",
    "def lin_pred(X, w):\n",
    "    return X.dot(w)"
   ]
  },
  {
   "cell_type": "markdown",
   "source": [
    "**Создайте функцию *stoch_grad_step* для реализации шага стохастического градиентного спуска. (1.5 балла)\n",
    "Функция должна принимать на вход следующие аргументы:**\n",
    "* матрицу *X*\n",
    "* вектора *y* и *w*\n",
    "* число *train_ind* - индекс объекта обучающей выборки (строки матрицы *X*), по которому считается изменение весов\n",
    "* число *$\\eta$* (eta) - шаг градиентного спуска\n",
    "\n",
    "Результатом будет вектор обновленных весов"
   ],
   "metadata": {
    "collapsed": false
   }
  },
  {
   "cell_type": "markdown",
   "metadata": {
    "id": "dyLY-P02DUK5"
   },
   "source": [
    "Шаг для стохастического градиентного спуска выглядит следующим образом:"
   ]
  },
  {
   "cell_type": "markdown",
   "metadata": {
    "id": "ORsAyIKNDUK5"
   },
   "source": [
    "$$\\Large w_j \\leftarrow w_j - \\frac{2\\eta}{\\ell} \\sum_{i=1}^\\ell{{x_{ij}((w_0 + w_1x_{i1} + w_2x_{i2} +  w_3x_{i3}) - y_i)}}$$"
   ]
  },
  {
   "cell_type": "markdown",
   "metadata": {
    "id": "CQl2FrpuDUK6"
   },
   "source": [
    "Для того, чтобы написать функцию, нужно сделать следующее:\n",
    "    \n",
    "*  посчитать направление изменения: умножить объект обучающей выборки на 2 и на разницу между предсказанным значением и реальным, а потом поделить на количество элементов в выборке.\n",
    "* вернуть разницу между вектором весов и направлением изменения, умноженным на шаг градиентного спуска"
   ]
  },
  {
   "cell_type": "code",
   "execution_count": 41,
   "outputs": [],
   "source": [
    "def stoch_grad_step(X, y, w, train_ind, eta):\n",
    "    diff = np.dot(X[train_ind], w) - y[train_ind]\n",
    "    direction = X[train_ind, :] * 2 * diff / len(y)\n",
    "    return  w - direction * eta"
   ],
   "metadata": {
    "collapsed": false,
    "pycharm": {
     "name": "#%%\n"
    }
   }
  },
  {
   "cell_type": "markdown",
   "metadata": {
    "id": "pXwIFd0Ma_Zx"
   },
   "source": [
    "**Создайте функцию *stochastic_gradient_descent*, для реализации стохастического градиентного спуска (2.5 балла)**\n",
    "\n",
    "**Функция принимает на вход следующие аргументы:**\n",
    "- Матрицу признаков X\n",
    "- Целевую переменнную\n",
    "- Изначальную точку (веса модели)\n",
    "- Параметр, определяющий темп обучения\n",
    "- Максимальное число итераций\n",
    "- Евклидово расстояние между векторами весов на соседних итерациях градиентного спуска,при котором алгоритм прекращает работу \n",
    "\n",
    "**На каждой итерации в вектор (список) должно записываться текущее значение среднеквадратичной ошибки. Функция должна возвращать вектор весов $w$, а также вектор (список) ошибок.**"
   ]
  },
  {
   "cell_type": "markdown",
   "metadata": {
    "id": "ZVeoNF1JDUK7"
   },
   "source": [
    "Алгоритм сследующий:\n",
    "    \n",
    "* Инициализируйте расстояние между векторами весов на соседних итерациях большим числом (можно бесконечностью)\n",
    "* Создайте пустой список для фиксации ошибок\n",
    "* Создайте счетчик итераций\n",
    "* Реализуйте оновной цикл обучения пока расстояние между векторами весов больше того, при котором надо прекратить работу (когда расстояния станут слишком маленькими - значит, мы застряли в одном месте) и количество итераций меньше максимально разрешенного: сгенерируйте случайный индекс, запишите текущую ошибку в вектор ошибок, запишите в переменную текущий шаг стохастического спуска с использованием функции, написанной ранее. Далее рассчитайте текущее расстояние между векторами весов и прибавьте к счетчику итераций 1.\n",
    "* Верните вектор весов и вектор ошибок"
   ]
  },
  {
   "cell_type": "code",
   "execution_count": 42,
   "outputs": [],
   "source": [
    "def stochastic_gradient_descent(X, y, w_start, eta, max_iter=1000, min_weight_dist=0.00000001):\n",
    "    # инициализируем расстояние между векторами весов бесконечностью:\n",
    "    weight_dist = np.inf\n",
    "\n",
    "    # создаем пустой список для фиксации ошибок:\n",
    "    errors = []\n",
    "\n",
    "    # создаем счетчик итераций:\n",
    "    i = 0\n",
    "\n",
    "    # запишем начальную ошибку в вектор ошибок:\n",
    "    w = w_start\n",
    "\n",
    "    # для воспроизводимости кода:\n",
    "    np.random.seed(42)\n",
    "\n",
    "    # реализуем основной цикл обучения пока расстояние между векторами весов больше того,\n",
    "    # при котором надо прекратить работу и количество итераций меньше максимально разрешенного:\n",
    "    while weight_dist > min_weight_dist and i < max_iter:\n",
    "        # сгенерируем случайный индекс\n",
    "        random_index = np.random.randint(len(y))\n",
    "\n",
    "        # текущая ошибка:\n",
    "        w_current = w\n",
    "\n",
    "        # запишем в переменную текущий шаг стохастического спуска с использованием функции, написанной ранее:\n",
    "        w = stoch_grad_step(X, y, w_current, random_index, eta)\n",
    "\n",
    "        # текущее расстояние между векторами весов:\n",
    "        weight_dist = np.linalg.norm(w - w_current)\n",
    "\n",
    "        # запишем ошибку в вектор ошибок:\n",
    "        errors.append(mse_error(lin_pred(X, w), y))\n",
    "\n",
    "        i += 1\n",
    "\n",
    "    return w, errors"
   ],
   "metadata": {
    "collapsed": false,
    "pycharm": {
     "name": "#%%\n"
    }
   }
  },
  {
   "cell_type": "markdown",
   "metadata": {
    "id": "0OqHO1Rta_Z7"
   },
   "source": [
    " **Запустите $10^5$ итераций стохастического градиентного спуска. Укажите вектор начальных весов, состоящий из нулей. Можете поэкспериментировать с параметром, отвечающим за темп обучения.**"
   ]
  },
  {
   "cell_type": "code",
   "execution_count": 43,
   "outputs": [
    {
     "name": "stdout",
     "output_type": "stream",
     "text": [
      "63636\n"
     ]
    }
   ],
   "source": [
    "w_start = [0, 0, 0, 0]\n",
    "iter = 100000\n",
    "\n",
    "w_stoch_desc, errors = stochastic_gradient_descent(X, y, w_start, max_iter=iter, eta=0.01)\n",
    "\n",
    "print(len(errors))"
   ],
   "metadata": {
    "collapsed": false,
    "pycharm": {
     "name": "#%%\n"
    }
   }
  },
  {
   "cell_type": "markdown",
   "metadata": {
    "id": "N6fHHT6vDUK8"
   },
   "source": [
    "**Постройте график зависимости ошибки от номера итерации**"
   ]
  },
  {
   "cell_type": "code",
   "execution_count": 44,
   "metadata": {
    "id": "zsSfHDzLDUK9"
   },
   "outputs": [
    {
     "data": {
      "text/plain": "<Figure size 1080x504 with 1 Axes>",
      "image/png": "[encoded data removed]"
     },
     "metadata": {
      "needs_background": "light"
     },
     "output_type": "display_data"
    }
   ],
   "source": [
    "fig = plt.figure(figsize=(15,7))\n",
    "plt.plot(errors)\n",
    "\n",
    "plt.title('График зависимости ошибки от номера итерации')\n",
    "plt.ylabel('MSE')\n",
    "plt.xlabel('iter');"
   ]
  },
  {
   "cell_type": "markdown",
   "metadata": {
    "id": "O-MVOcJ6a_aY"
   },
   "source": [
    "**Выведите вектор весов, к которому сошелся метод.**"
   ]
  },
  {
   "cell_type": "code",
   "execution_count": 45,
   "metadata": {
    "id": "MPjVkXe4DUK9"
   },
   "outputs": [
    {
     "name": "stdout",
     "output_type": "stream",
     "text": [
      "Вектор весов, на котором сошелся метод: [13.9904  3.8917  2.7923  0.0062]\n"
     ]
    }
   ],
   "source": [
    "print(f'Вектор весов, на котором сошелся метод: {np.round(w_stoch_desc, 4)}')"
   ]
  },
  {
   "cell_type": "markdown",
   "metadata": {
    "id": "qabzMc3Qa_a5"
   },
   "source": [
    "**Выведите среднеквадратичную ошибку на последней итерации.**"
   ]
  },
  {
   "cell_type": "code",
   "execution_count": 46,
   "metadata": {
    "id": "7tPWleMIa_a7"
   },
   "outputs": [
    {
     "name": "stdout",
     "output_type": "stream",
     "text": [
      "MSE на последней итерации: 2.787\n"
     ]
    }
   ],
   "source": [
    "print(f'MSE на последней итерации: {round(errors[-1], 3)}')"
   ]
  },
  {
   "cell_type": "markdown",
   "source": [
    "### Оценим качество обеих полученных моделей с помощью MSE и MAE"
   ],
   "metadata": {
    "collapsed": false,
    "pycharm": {
     "name": "#%% md\n"
    }
   }
  },
  {
   "cell_type": "code",
   "execution_count": 47,
   "outputs": [
    {
     "name": "stdout",
     "output_type": "stream",
     "text": [
      "MSE для прогноза методом координатного спуска: 17748.379\n",
      "MSE для прогноза методом стохастического градиентного спуска: 2.787\n",
      "MAE для прогноза методом координатного спуска: 111.234\n",
      "MAE для прогноза методом стохастического градиентного спуска: 1.259\n"
     ]
    }
   ],
   "source": [
    "# методом координатного спуска:\n",
    "y_coord_desc = lin_pred(X, w_coord_desc)\n",
    "\n",
    "# методом стохастического спуска:\n",
    "y_stoch_desc = lin_pred(X, w_stoch_desc)\n",
    "\n",
    "\n",
    "print(f'MSE для прогноза методом координатного спуска: {round(mse_error(y, y_coord_desc), 3)}')\n",
    "print(f'MSE для прогноза методом стохастического градиентного спуска: {round(mse_error(y, y_stoch_desc), 3)}')\n",
    "\n",
    "\n",
    "def mae_error(y_true, y_pred):\n",
    "    return np.mean(np.abs(y_true - y_pred))\n",
    "\n",
    "\n",
    "print(f'MAE для прогноза методом координатного спуска: {round(mae_error(y, y_coord_desc), 3)}')\n",
    "print(f'MAE для прогноза методом стохастического градиентного спуска: {round(mae_error(y, y_stoch_desc), 3)}')"
   ],
   "metadata": {
    "collapsed": false,
    "pycharm": {
     "name": "#%%\n"
    }
   }
  },
  {
   "cell_type": "markdown",
   "source": [
    "**Предсказание методом стохастического градиентного спуска оказалось в разы точнее предсказания, сделанного методом координатного спуска.**"
   ],
   "metadata": {
    "collapsed": false,
    "pycharm": {
     "name": "#%% md\n"
    }
   }
  }
 ],
 "metadata": {
  "colab": {
   "collapsed_sections": [],
   "name": "Практика_Оптимизация.ipynb",
   "provenance": [],
   "toc_visible": true
  },
  "kernelspec": {
   "display_name": "Python 3 (ipykernel)",
   "language": "python",
   "name": "python3"
  },
  "language_info": {
   "codemirror_mode": {
    "name": "ipython",
    "version": 3
   },
   "file_extension": ".py",
   "mimetype": "text/x-python",
   "name": "python",
   "nbconvert_exporter": "python",
   "pygments_lexer": "ipython3",
   "version": "3.9.7"
  }
 },
 "nbformat": 4,
 "nbformat_minor": 0
}