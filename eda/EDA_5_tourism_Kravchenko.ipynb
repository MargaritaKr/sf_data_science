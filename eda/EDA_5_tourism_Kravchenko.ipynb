{
 "cells": [
  {
   "cell_type": "markdown",
   "id": "c8a6af25-08d3-487a-bd90-001772ac9161",
   "metadata": {},
   "source": [
    "## <center> **Анализ результатов A/B-тестирования**"
   ]
  },
  {
   "cell_type": "markdown",
   "id": "d7d45571-6545-4904-a86b-9b3b6b8163d3",
   "metadata": {},
   "source": [
    "Компания планирует запустить новую акцию, чтобы продать как можно больше туров. Команда разработала два варианта посадочной страницы официального сайта компании и провела A/B-тестирование. Собранные в результате проведения эксперимента данные вы можете найти здесь.\n",
    "\n",
    "Вам предстоит решить настоящую бизнес-задачу: проанализировать эффективность обоих вариантов посадочной страницы сразу по двум критериям: конверсии покупки и среднему чеку. На основе проведенного анализа вам будет необходимо сделать выводы и принять решение: какой из вариантов дизайна более предпочтительный.\n",
    "\n",
    "Итак, наша фирма предлагает следующие варианты туров и их соответствующие стоимости:\n",
    "* Таиланд — 100000 рублей;\n",
    "* Турция — 60000 рублей;\n",
    "* Мальдивы — 200000 рублей;\n",
    "* Санкт-Петербург — 10000 рублей;\n",
    "* Камчатка — 150000 рублей."
   ]
  },
  {
   "cell_type": "code",
   "execution_count": 20,
   "id": "a974b482-e192-4014-8520-8a5c0c946da6",
   "metadata": {},
   "outputs": [],
   "source": [
    "from IPython.display import display\n",
    "import pandas as pd\n",
    "import numpy as np\n",
    "from datetime import timedelta\n",
    "from matplotlib import pyplot as plt, dates\n",
    "import seaborn as sns\n",
    "from scipy.stats import norm, t, ttest_ind, shapiro\n",
    "from statsmodels.stats.proportion import proportions_ztest"
   ]
  },
  {
   "cell_type": "markdown",
   "id": "55c84550-4162-4325-acc2-7d3c0aafe6f0",
   "metadata": {},
   "source": [
    "Прочитаем наши данные и посмотрим на столбцы таблицы:"
   ]
  },
  {
   "cell_type": "code",
   "execution_count": 2,
   "id": "b0d18245-b9da-44bd-8aea-d272ea74b63a",
   "metadata": {},
   "outputs": [
    {
     "data": {
      "text/plain": "   user_id        date group  purchase   price\n0   851104  2021-01-21     A         0       0\n1   804228  2021-01-12     A         0       0\n2   661590  2021-01-11     B         0       0\n3   853541  2021-01-08     B         0       0\n4   864975  2021-01-21     A         1  150000",
      "text/html": "<div>\n<style scoped>\n    .dataframe tbody tr th:only-of-type {\n        vertical-align: middle;\n    }\n\n    .dataframe tbody tr th {\n        vertical-align: top;\n    }\n\n    .dataframe thead th {\n        text-align: right;\n    }\n</style>\n<table border=\"1\" class=\"dataframe\">\n  <thead>\n    <tr style=\"text-align: right;\">\n      <th></th>\n      <th>user_id</th>\n      <th>date</th>\n      <th>group</th>\n      <th>purchase</th>\n      <th>price</th>\n    </tr>\n  </thead>\n  <tbody>\n    <tr>\n      <th>0</th>\n      <td>851104</td>\n      <td>2021-01-21</td>\n      <td>A</td>\n      <td>0</td>\n      <td>0</td>\n    </tr>\n    <tr>\n      <th>1</th>\n      <td>804228</td>\n      <td>2021-01-12</td>\n      <td>A</td>\n      <td>0</td>\n      <td>0</td>\n    </tr>\n    <tr>\n      <th>2</th>\n      <td>661590</td>\n      <td>2021-01-11</td>\n      <td>B</td>\n      <td>0</td>\n      <td>0</td>\n    </tr>\n    <tr>\n      <th>3</th>\n      <td>853541</td>\n      <td>2021-01-08</td>\n      <td>B</td>\n      <td>0</td>\n      <td>0</td>\n    </tr>\n    <tr>\n      <th>4</th>\n      <td>864975</td>\n      <td>2021-01-21</td>\n      <td>A</td>\n      <td>1</td>\n      <td>150000</td>\n    </tr>\n  </tbody>\n</table>\n</div>"
     },
     "execution_count": 2,
     "metadata": {},
     "output_type": "execute_result"
    }
   ],
   "source": [
    "data = pd.read_csv('ab_data_tourist.csv')\n",
    "data.head()"
   ]
  },
  {
   "cell_type": "markdown",
   "id": "2fc48225-26ac-49c4-b99d-8b2a03dd74a1",
   "metadata": {
    "tags": []
   },
   "source": [
    "## **Задание 7.1.**\n",
    "\n",
    "Начнем с исследования структуры наших данных. С помощью метода info() выведите информацию о типах данных и количестве непустых значений. Какой тип данных имеет столбец date?"
   ]
  },
  {
   "cell_type": "code",
   "execution_count": 3,
   "id": "23496521-4878-46e2-ab02-1a98be14884a",
   "metadata": {},
   "outputs": [
    {
     "name": "stdout",
     "output_type": "stream",
     "text": [
      "<class 'pandas.core.frame.DataFrame'>\n",
      "RangeIndex: 294478 entries, 0 to 294477\n",
      "Data columns (total 5 columns):\n",
      " #   Column    Non-Null Count   Dtype \n",
      "---  ------    --------------   ----- \n",
      " 0   user_id   294478 non-null  int64 \n",
      " 1   date      294478 non-null  object\n",
      " 2   group     294478 non-null  object\n",
      " 3   purchase  294478 non-null  int64 \n",
      " 4   price     294478 non-null  int64 \n",
      "dtypes: int64(3), object(2)\n",
      "memory usage: 11.2+ MB\n"
     ]
    }
   ],
   "source": [
    "data.info()"
   ]
  },
  {
   "cell_type": "markdown",
   "id": "946d017d-b4fe-4a17-b91d-0ce369d1ab2e",
   "metadata": {
    "tags": []
   },
   "source": []
  },
  {
   "cell_type": "code",
   "execution_count": 4,
   "id": "604c619d-6338-45c8-8248-ac098a2366bb",
   "metadata": {},
   "outputs": [
    {
     "data": {
      "text/plain": "       day start    day end lasting\ngroup                              \nA     2021-01-02 2021-01-24 23 days\nB     2021-01-02 2021-01-24 23 days",
      "text/html": "<div>\n<style scoped>\n    .dataframe tbody tr th:only-of-type {\n        vertical-align: middle;\n    }\n\n    .dataframe tbody tr th {\n        vertical-align: top;\n    }\n\n    .dataframe thead th {\n        text-align: right;\n    }\n</style>\n<table border=\"1\" class=\"dataframe\">\n  <thead>\n    <tr style=\"text-align: right;\">\n      <th></th>\n      <th>day start</th>\n      <th>day end</th>\n      <th>lasting</th>\n    </tr>\n    <tr>\n      <th>group</th>\n      <th></th>\n      <th></th>\n      <th></th>\n    </tr>\n  </thead>\n  <tbody>\n    <tr>\n      <th>A</th>\n      <td>2021-01-02</td>\n      <td>2021-01-24</td>\n      <td>23 days</td>\n    </tr>\n    <tr>\n      <th>B</th>\n      <td>2021-01-02</td>\n      <td>2021-01-24</td>\n      <td>23 days</td>\n    </tr>\n  </tbody>\n</table>\n</div>"
     },
     "metadata": {},
     "output_type": "display_data"
    }
   ],
   "source": [
    "data['date'] = pd.to_datetime(data['date'], format='%Y-%m-%d')\n",
    "\n",
    "# убедимся в равной длительности тестирования:\n",
    "data_days = data.groupby('group').agg({'date':['min', 'max']})\n",
    "data_days.columns = ['day start', 'day end']\n",
    "data_days['lasting'] = data_days['day end'] - data_days['day start'] + timedelta(days=1)\n",
    "\n",
    "display(data_days)"
   ]
  },
  {
   "cell_type": "markdown",
   "id": "e04eb341-52ae-48b3-9dc2-0578ca91641a",
   "metadata": {},
   "source": [
    "## **Задание 7.3.**\n",
    "\n",
    "* Чему равно количество посещений сайта в группах А и B?\n",
    "\n",
    "* Чему равно суммарное количество покупок в группах А и B?\n",
    "\n",
    "* Чему равна сумма всех покупок в группах А и B? Ответ приведите в миллионах рублей. Например, 185.52 млн. руб."
   ]
  },
  {
   "cell_type": "code",
   "execution_count": 5,
   "id": "02bf0148-488e-4f34-95bf-37794b2fa98b",
   "metadata": {},
   "outputs": [
    {
     "data": {
      "text/plain": "       users_count  purchases      sum\ngroup                                 \nA           147202      17723  1436.26\nB           147276      17514  1554.10",
      "text/html": "<div>\n<style scoped>\n    .dataframe tbody tr th:only-of-type {\n        vertical-align: middle;\n    }\n\n    .dataframe tbody tr th {\n        vertical-align: top;\n    }\n\n    .dataframe thead th {\n        text-align: right;\n    }\n</style>\n<table border=\"1\" class=\"dataframe\">\n  <thead>\n    <tr style=\"text-align: right;\">\n      <th></th>\n      <th>users_count</th>\n      <th>purchases</th>\n      <th>sum</th>\n    </tr>\n    <tr>\n      <th>group</th>\n      <th></th>\n      <th></th>\n      <th></th>\n    </tr>\n  </thead>\n  <tbody>\n    <tr>\n      <th>A</th>\n      <td>147202</td>\n      <td>17723</td>\n      <td>1436.26</td>\n    </tr>\n    <tr>\n      <th>B</th>\n      <td>147276</td>\n      <td>17514</td>\n      <td>1554.10</td>\n    </tr>\n  </tbody>\n</table>\n</div>"
     },
     "metadata": {},
     "output_type": "display_data"
    }
   ],
   "source": [
    "# составим таблицу сводных показателей:\n",
    "pivot = data.groupby('group').agg({\n",
    "    'user_id': 'count',\n",
    "    'purchase': 'sum',\n",
    "    'price': (lambda x: x.sum()/1000000)\n",
    "}).rename(columns={'user_id': 'users_count', 'purchase': 'purchases', 'price': 'sum'})\n",
    "\n",
    "display(pivot)"
   ]
  },
  {
   "cell_type": "markdown",
   "id": "2434db1b-17e6-4977-8e54-1df875c6f221",
   "metadata": {
    "tags": []
   },
   "source": [
    "## **Задание 7.4.**\n",
    "\n",
    "Проверьте, есть ли пользователи, которые в процессе A/B-теста попали в обе тестовые группы? Если да, то сколько таких уникальных пользователей, если нет - введите в поле для ответа 0?\n",
    "\n",
    "**Подсказка:**\n",
    "\n",
    "*Создайте множество пользователей группы А и множество пользователей группы B. Пересеките два этих множества (операция intersection) и вычислите количество элементов в полученном множестве.*\n"
   ]
  },
  {
   "cell_type": "code",
   "execution_count": 6,
   "id": "57a2d711-057d-4f8b-9f56-df0f772d41c8",
   "metadata": {},
   "outputs": [
    {
     "name": "stdout",
     "output_type": "stream",
     "text": [
      "Количество пользователей, попавших в обе группы - 1895\n"
     ]
    }
   ],
   "source": [
    "users_a = set(data[data['group'] == 'A']['user_id'])\n",
    "users_b = set(data[data['group'] == 'B']['user_id'])\n",
    "users_intersection = users_a.intersection(users_b)  # {5}\n",
    "\n",
    "print('Количество пользователей, попавших в обе группы - {}'.format(len(users_intersection)))"
   ]
  },
  {
   "cell_type": "markdown",
   "id": "118b1904-7d7a-4935-825e-535da45c611b",
   "metadata": {
    "tags": []
   },
   "source": [
    "## **Исключите пользователей, оказавшихся в обеих группах**\n",
    "\n",
    "Так как мы не можем определить, какая из версий сайта повлияла на принятие решения, исключим этих пользователей. Далее мы будем работать только с очищенными от пересечений данными.\n",
    "\n",
    "Возможный вариант исключения пользователей:"
   ]
  },
  {
   "cell_type": "code",
   "execution_count": 7,
   "id": "f618b34b-35a3-4bf1-8d6d-38b3401930b7",
   "metadata": {},
   "outputs": [],
   "source": [
    "updated_data = data[data['user_id'].apply(lambda x: x not in users_intersection)]"
   ]
  },
  {
   "cell_type": "markdown",
   "id": "2bce6c9a-6580-4250-b280-204d40d20da2",
   "metadata": {},
   "source": [
    "Где users_intersection - множество пересечений пользователей групп А и B."
   ]
  },
  {
   "cell_type": "markdown",
   "source": [
    "## **Задание 7.5.**\n",
    "\n",
    "Для первичного анализа результатов A/B-тестирования нам понадобится таблица данных, сгруппированных по признаку группы. В каждой группе рассчитайте следующие показатели:\n",
    "* количество посещений (количество пользователей)\n",
    "* количество совершенных покупок\n",
    "* сумма всех покупок в группе\n",
    "\n",
    "В полученной сгруппированной таблице переименуйте столбцы на **count_visits, count_purchases и sum_price**.\n",
    "\n",
    "**Подсказка:**\n",
    "\n",
    "*Для переименования столбцов можно использовать метод rename() с параметром columns, в который передается словарь. Ключи этого словаря - старые имена столбцов, а значения - новые.*\n",
    "\n",
    "Чему на этот раз равно количество посещений сайта в группах А и B?\n"
   ],
   "metadata": {
    "collapsed": false
   }
  },
  {
   "cell_type": "code",
   "execution_count": 8,
   "id": "5c0c018e-a250-48e9-b72a-e3c7be586ebd",
   "metadata": {},
   "outputs": [
    {
     "data": {
      "text/plain": "       count_visits  count_purchases   sum_price\ngroup                                           \nA            145307            17487  1417780000\nB            145381            17290  1533010000",
      "text/html": "<div>\n<style scoped>\n    .dataframe tbody tr th:only-of-type {\n        vertical-align: middle;\n    }\n\n    .dataframe tbody tr th {\n        vertical-align: top;\n    }\n\n    .dataframe thead th {\n        text-align: right;\n    }\n</style>\n<table border=\"1\" class=\"dataframe\">\n  <thead>\n    <tr style=\"text-align: right;\">\n      <th></th>\n      <th>count_visits</th>\n      <th>count_purchases</th>\n      <th>sum_price</th>\n    </tr>\n    <tr>\n      <th>group</th>\n      <th></th>\n      <th></th>\n      <th></th>\n    </tr>\n  </thead>\n  <tbody>\n    <tr>\n      <th>A</th>\n      <td>145307</td>\n      <td>17487</td>\n      <td>1417780000</td>\n    </tr>\n    <tr>\n      <th>B</th>\n      <td>145381</td>\n      <td>17290</td>\n      <td>1533010000</td>\n    </tr>\n  </tbody>\n</table>\n</div>"
     },
     "metadata": {},
     "output_type": "display_data"
    }
   ],
   "source": [
    "# составим таблицу сводных показателей:\n",
    "pivot = updated_data.groupby('group').agg({\n",
    "    'user_id': 'count',\n",
    "    'purchase': 'sum',\n",
    "    'price': 'sum'\n",
    "}).rename(columns={'user_id': 'count_visits', 'purchase': 'count_purchases', 'price': 'sum_price'})\n",
    "\n",
    "display(pivot)"
   ]
  },
  {
   "cell_type": "markdown",
   "id": "b71e1390-9846-4a8e-b357-f82b847d1952",
   "metadata": {},
   "source": [
    "Приведите промежуточные выводы по построенной таблице. Сопоставимо ли количество посещений обоих вариантов посадочной странице, можно ли говорить о сбалансированности выборок?"
   ]
  },
  {
   "cell_type": "markdown",
   "id": "4ea1b65b-475e-4bff-9460-fac0acdb9620",
   "metadata": {},
   "source": [
    "#### ВЫВОДЫ: Основываясь на данных сводной таблицы, можно сказать, что обе группы эксперимента сопоставимы, практически равнозначны по количеству посещений сайта и отличаются лишь на сотые доли процента. Можно однозначно определить выборки как сбалансированные."
   ]
  },
  {
   "cell_type": "markdown",
   "id": "afb2ee0a-31d1-45a5-be42-a2bf168b9448",
   "metadata": {
    "tags": []
   },
   "source": [
    "## **Задание 7.6.**\n",
    "\n",
    "Добавьте в сгруппированную таблицу столбцы conversion - конверсия покупки (отношение количества покупок к количеству посещений сайта в каждой группе, выраженное в процентах) и mean_check - средний чек (отношение суммы покупок к количеству покупок в каждой группе).\n",
    "\n",
    "* Чему равна конверсия в группах? Ответ приведите в процентах и округлите до сотых. Например, 75.12 %\n",
    "* Чему равен средний чек в группах? Ответ приведите в рублях и округлите до целых. Например, 120519 рублей."
   ]
  },
  {
   "cell_type": "code",
   "execution_count": 9,
   "id": "bd9c3b3e-5956-41a8-bae0-43693f6de1f2",
   "metadata": {},
   "outputs": [
    {
     "data": {
      "text/plain": "       count_visits  count_purchases   sum_price  conversion  mean_check\ngroup                                                                   \nA            145307            17487  1417780000       12.03     81076.0\nB            145381            17290  1533010000       11.89     88665.0",
      "text/html": "<div>\n<style scoped>\n    .dataframe tbody tr th:only-of-type {\n        vertical-align: middle;\n    }\n\n    .dataframe tbody tr th {\n        vertical-align: top;\n    }\n\n    .dataframe thead th {\n        text-align: right;\n    }\n</style>\n<table border=\"1\" class=\"dataframe\">\n  <thead>\n    <tr style=\"text-align: right;\">\n      <th></th>\n      <th>count_visits</th>\n      <th>count_purchases</th>\n      <th>sum_price</th>\n      <th>conversion</th>\n      <th>mean_check</th>\n    </tr>\n    <tr>\n      <th>group</th>\n      <th></th>\n      <th></th>\n      <th></th>\n      <th></th>\n      <th></th>\n    </tr>\n  </thead>\n  <tbody>\n    <tr>\n      <th>A</th>\n      <td>145307</td>\n      <td>17487</td>\n      <td>1417780000</td>\n      <td>12.03</td>\n      <td>81076.0</td>\n    </tr>\n    <tr>\n      <th>B</th>\n      <td>145381</td>\n      <td>17290</td>\n      <td>1533010000</td>\n      <td>11.89</td>\n      <td>88665.0</td>\n    </tr>\n  </tbody>\n</table>\n</div>"
     },
     "metadata": {},
     "output_type": "display_data"
    }
   ],
   "source": [
    "pivot['conversion'] = round(pivot['count_purchases'] / pivot['count_visits'] * 100, 2)\n",
    "pivot['mean_check'] = round(pivot['sum_price'] / pivot['count_purchases'])\n",
    "\n",
    "display(pivot)"
   ]
  },
  {
   "cell_type": "markdown",
   "id": "1eb6e140-c702-43e0-b301-9914a7f49448",
   "metadata": {},
   "source": [
    "Приведите промежуточные выводы по таблице. По какому(им) показателю(ям) вариант А эффективнее варианта B и наоборот?"
   ]
  },
  {
   "cell_type": "markdown",
   "id": "9e88c883-84f9-44ec-accd-04d5d459b261",
   "metadata": {},
   "source": [
    "#### ВЫВОДЫ: Сравнивая показатели групп, можно сказать, что конверсия в группе А немного выше, зато средний чек в группе B намного превосходит показатель группы А. На первый взгляд кажется, что вариант В эффективнее, так как разница в конверсиях очень мала, и может лежать в пределах статистической погрешности, а вот различия в размере среднего чека очень ощутимы (это от 8 до 9 процентов)."
   ]
  },
  {
   "cell_type": "markdown",
   "id": "7f9f1ae0-f12f-49b3-8b57-1c299c208c49",
   "metadata": {
    "tags": []
   },
   "source": [
    "## **Задание 7.7.**\n",
    "\n",
    "Теперь давайте сравним варианты по покупательской способности туров. Для этого постройте сводную таблицу, которая покажет зависимость количества продаж от группы и цены тура. "
   ]
  },
  {
   "cell_type": "code",
   "execution_count": 10,
   "id": "78d46a02-cc30-4783-9b18-9fc9c6a08012",
   "metadata": {},
   "outputs": [
    {
     "data": {
      "text/plain": "price  10000   60000   100000  150000  200000\ngroup                                        \nA        5182    5271    1832    3478    1724\nB        5201    1730    5227    3438    1694",
      "text/html": "<div>\n<style scoped>\n    .dataframe tbody tr th:only-of-type {\n        vertical-align: middle;\n    }\n\n    .dataframe tbody tr th {\n        vertical-align: top;\n    }\n\n    .dataframe thead th {\n        text-align: right;\n    }\n</style>\n<table border=\"1\" class=\"dataframe\">\n  <thead>\n    <tr style=\"text-align: right;\">\n      <th>price</th>\n      <th>10000</th>\n      <th>60000</th>\n      <th>100000</th>\n      <th>150000</th>\n      <th>200000</th>\n    </tr>\n    <tr>\n      <th>group</th>\n      <th></th>\n      <th></th>\n      <th></th>\n      <th></th>\n      <th></th>\n    </tr>\n  </thead>\n  <tbody>\n    <tr>\n      <th>A</th>\n      <td>5182</td>\n      <td>5271</td>\n      <td>1832</td>\n      <td>3478</td>\n      <td>1724</td>\n    </tr>\n    <tr>\n      <th>B</th>\n      <td>5201</td>\n      <td>1730</td>\n      <td>5227</td>\n      <td>3438</td>\n      <td>1694</td>\n    </tr>\n  </tbody>\n</table>\n</div>"
     },
     "metadata": {},
     "output_type": "display_data"
    }
   ],
   "source": [
    "# формируем сводную таблицу:\n",
    "pivot_tours = pd.pivot_table(\n",
    "    updated_data[updated_data['price'] > 0],\n",
    "    values='purchase',\n",
    "    index='group',\n",
    "    columns='price',\n",
    "    aggfunc='count'\n",
    ")\n",
    "\n",
    "display(pivot_tours)"
   ]
  },
  {
   "cell_type": "markdown",
   "id": "977423ed-8f8d-475c-b773-621edd95338d",
   "metadata": {},
   "source": [
    "Визуализируйте полученную сводную таблицу с помощью тепловой карты с аннотацией. \n",
    "Чему равно количество проданных туров за 60000 рублей в группах?"
   ]
  },
  {
   "cell_type": "code",
   "execution_count": 11,
   "id": "f634fa8d-585c-42e3-b7d5-78e8d9eaa8c5",
   "metadata": {},
   "outputs": [
    {
     "data": {
      "text/plain": "<Figure size 1296x360 with 2 Axes>",
      "image/png": "[encoded data removed]"
     },
     "metadata": {
      "needs_background": "light"
     },
     "output_type": "display_data"
    }
   ],
   "source": [
    "fig1, ax1 = plt.subplots(1, 1, figsize = (18, 5))\n",
    "tours_on_price = sns.heatmap(\n",
    "    data=pivot_tours,\n",
    "    annot=True,\n",
    "    annot_kws={\"fontsize\":18},\n",
    "    xticklabels=['С.-Петербург — 10 000', 'Турция — 60 000', 'Таиланд — 100 000', 'Камчатка - 150 000', 'Мальдивы - 200 000'],\n",
    "    fmt='.0f',\n",
    "    cmap='flare'\n",
    ")\n",
    "ax1.set_xlabel('')\n",
    "ax1.set_ylabel('')\n",
    "ax1.set_yticklabels(['группа A', 'группа B'], fontsize=14)\n",
    "tours_on_price.set_title('Зависимость количества покупок от стоимости тура по группам теста', fontsize=16, pad=20);"
   ]
  },
  {
   "cell_type": "markdown",
   "id": "9caa92ca-e261-4b8f-a16c-2abc322c9ffb",
   "metadata": {},
   "source": [
    "Сделайте выводы по построенной таблице. По каким турам покупательская способность участников группы А выше, чем участников группы B и наоборот?"
   ]
  },
  {
   "cell_type": "markdown",
   "id": "6d13fd45-e3df-468f-9d32-1fc45d38b10c",
   "metadata": {},
   "source": [
    "#### ВЫВОДЫ: По самым дешевым (Санкт-Петербург) и самым дорогим (Камчатка, Мальдивы) турам покупательская способность в обеих группах практически совпадает. А вот в среднем ценовом сегмента - показатели отличаются диаметрально противоположно.\n",
    "#### Если в группе А более дешевые из средних - туры в Турцию - продаются практически в три раза лучше, чем более дорогие туры в Таиланд; то в группе B - это соотношение повторяется с точностью до наоборот. Именно такие различия в распределениях так сильно влияли на общую выручку по группам."
   ]
  },
  {
   "cell_type": "markdown",
   "id": "8f021fb4-d0f6-4e43-b518-1a96c07a4531",
   "metadata": {
    "tags": []
   },
   "source": [
    "## **Задание 7.8.**\n",
    "\n",
    "Настало время поговорить о стабилизации кумулятивных метрик во времени. Но прежде, чем перейти к кумулятивным метрикам, нам необходимо построить таблицу с ежедневными данными результатов проведения A/B-тестирования.\n",
    "\n",
    "Сгруппируйте данные по дате и группе тестирования. В каждой группе вычислите количество посещений страницы, количество покупок и сумму покупок. \n",
    "\n",
    "Добавьте в таблицу информацию о ежедневной конверсии (ежедневное количество покупок / ежедневное количество посещений) в группе и ежедневном среднем чеке (ежедневная сумма покупок / ежедневное количество покупок)\n",
    "* Чему равна конверсия 3 января 2021 года? Ответ приведите в процентах и округлите до сотых.\n",
    "\n",
    "* Чему равен средний чек 3 января 2021 года? Ответ приведите в рублях и округлите до целого."
   ]
  },
  {
   "cell_type": "code",
   "execution_count": 12,
   "id": "4503b528-412e-433a-bc03-da7da52fa1a3",
   "metadata": {},
   "outputs": [
    {
     "data": {
      "text/plain": "        date group  count_visits  count_purchases  sum_price  conversion  \\\n0 2021-01-02     A          2854              359   29410000       12.58   \n1 2021-01-02     B          2861              345   29660000       12.06   \n2 2021-01-03     A          6596              748   62000000       11.34   \n3 2021-01-03     B          6619              754   65960000       11.39   \n4 2021-01-04     A          6566              799   64250000       12.17   \n\n   mean_check  \n0     81922.0  \n1     85971.0  \n2     82888.0  \n3     87480.0  \n4     80413.0  ",
      "text/html": "<div>\n<style scoped>\n    .dataframe tbody tr th:only-of-type {\n        vertical-align: middle;\n    }\n\n    .dataframe tbody tr th {\n        vertical-align: top;\n    }\n\n    .dataframe thead th {\n        text-align: right;\n    }\n</style>\n<table border=\"1\" class=\"dataframe\">\n  <thead>\n    <tr style=\"text-align: right;\">\n      <th></th>\n      <th>date</th>\n      <th>group</th>\n      <th>count_visits</th>\n      <th>count_purchases</th>\n      <th>sum_price</th>\n      <th>conversion</th>\n      <th>mean_check</th>\n    </tr>\n  </thead>\n  <tbody>\n    <tr>\n      <th>0</th>\n      <td>2021-01-02</td>\n      <td>A</td>\n      <td>2854</td>\n      <td>359</td>\n      <td>29410000</td>\n      <td>12.58</td>\n      <td>81922.0</td>\n    </tr>\n    <tr>\n      <th>1</th>\n      <td>2021-01-02</td>\n      <td>B</td>\n      <td>2861</td>\n      <td>345</td>\n      <td>29660000</td>\n      <td>12.06</td>\n      <td>85971.0</td>\n    </tr>\n    <tr>\n      <th>2</th>\n      <td>2021-01-03</td>\n      <td>A</td>\n      <td>6596</td>\n      <td>748</td>\n      <td>62000000</td>\n      <td>11.34</td>\n      <td>82888.0</td>\n    </tr>\n    <tr>\n      <th>3</th>\n      <td>2021-01-03</td>\n      <td>B</td>\n      <td>6619</td>\n      <td>754</td>\n      <td>65960000</td>\n      <td>11.39</td>\n      <td>87480.0</td>\n    </tr>\n    <tr>\n      <th>4</th>\n      <td>2021-01-04</td>\n      <td>A</td>\n      <td>6566</td>\n      <td>799</td>\n      <td>64250000</td>\n      <td>12.17</td>\n      <td>80413.0</td>\n    </tr>\n  </tbody>\n</table>\n</div>"
     },
     "metadata": {},
     "output_type": "display_data"
    }
   ],
   "source": [
    "# сгруппируем данные по дням:\n",
    "daily_data = updated_data.groupby(['date','group']).agg({\n",
    "    'user_id': 'count',\n",
    "    'purchase': 'sum',\n",
    "    'price': 'sum'\n",
    "}).reset_index().rename(columns={'user_id': 'count_visits', 'purchase': 'count_purchases', 'price': 'sum_price'})\n",
    "\n",
    "# добавим информацию о ежедневной конверсии и ежедневном среднем чеке:\n",
    "daily_data['conversion'] = round(daily_data['count_purchases'] / daily_data['count_visits'] * 100, 2)\n",
    "daily_data['mean_check'] = round(daily_data['sum_price'] / daily_data['count_purchases'])\n",
    "\n",
    "display(daily_data.head())"
   ]
  },
  {
   "cell_type": "markdown",
   "id": "bc8e241b-1ef1-4f67-ab90-77251889b7f2",
   "metadata": {},
   "source": [
    "## **Задание 7.9.** \n",
    "\n",
    "Добавьте в таблицу с ежедневными показателями кумулятивные признаки:\n",
    "* кумулятивное количество посещений страницы\n",
    "* кумулятивное количество покупок\n",
    "* кумулятивную сумму покупок\n",
    "\n",
    "Не забудьте при расчете кумулятивной суммы сгруппировать данные по группам. \n",
    "\n",
    "Вычислите кумулятивную конверсию и кумулятивный средний чек на основе полученных кумулятивных показателей. \n",
    "\n",
    "* Какая **кумулятивная** конверсия была в группе B на 20 января? Ответ приведите в процентах, округлив до сотых.\n",
    "* Какой **кумулятивный** средний чек был в группе А на 12 января 2021 года? Ответ приведите в рублях, округлив до целых."
   ]
  },
  {
   "cell_type": "code",
   "execution_count": 13,
   "id": "afe59f9a-8d39-45c1-a14f-9f62091d81a1",
   "metadata": {},
   "outputs": [
    {
     "data": {
      "text/plain": "         date group  count_visits  count_purchases  sum_price  conversion  \\\n20 2021-01-12     A          6540              795   68460000       12.16   \n21 2021-01-12     B          6635              807   70560000       12.16   \n22 2021-01-13     A          6564              764   63590000       11.64   \n23 2021-01-13     B          6495              720   65910000       11.09   \n24 2021-01-14     A          6543              825   65890000       12.61   \n25 2021-01-14     B          6608              792   68990000       11.99   \n26 2021-01-15     A          6701              806   67570000       12.03   \n27 2021-01-15     B          6563              747   69160000       11.38   \n28 2021-01-16     A          6601              808   66210000       12.24   \n29 2021-01-16     B          6544              786   70560000       12.01   \n30 2021-01-17     A          6619              809   63020000       12.22   \n31 2021-01-17     B          6546              831   75300000       12.69   \n32 2021-01-18     A          6511              812   62850000       12.47   \n33 2021-01-18     B          6603              822   72240000       12.45   \n34 2021-01-19     A          6582              790   63680000       12.00   \n35 2021-01-19     B          6562              772   67820000       11.76   \n36 2021-01-20     A          6533              749   58710000       11.46   \n37 2021-01-20     B          6685              790   69250000       11.82   \n38 2021-01-21     A          6750              851   70300000       12.61   \n39 2021-01-21     B          6555              760   69870000       11.59   \n\n    mean_check  cum_count_visits  cum_count_purchases  cum_sum_price  \\\n20     86113.0             68852                 8198      668070000   \n21     87435.0             69251                 8236      727670000   \n22     83233.0             75416                 8962      731660000   \n23     91542.0             75746                 8956      793580000   \n24     79867.0             81959                 9787      797550000   \n25     87109.0             82354                 9748      862570000   \n26     83834.0             88660                10593      865120000   \n27     92584.0             88917                10495      931730000   \n28     81943.0             95261                11401      931330000   \n29     89771.0             95461                11281     1002290000   \n30     77899.0            101880                12210      994350000   \n31     90614.0            102007                12112     1077590000   \n32     77401.0            108391                13022     1057200000   \n33     87883.0            108610                12934     1149830000   \n34     80608.0            114973                13812     1120880000   \n35     87850.0            115172                13706     1217650000   \n36     78385.0            121506                14561     1179590000   \n37     87658.0            121857                14496     1286900000   \n38     82609.0            128256                15412     1249890000   \n39     91934.0            128412                15256     1356770000   \n\n    cum_conversion  cum_mean_check  \n20           11.91         81492.0  \n21           11.89         88352.0  \n22           11.88         81640.0  \n23           11.82         88609.0  \n24           11.94         81491.0  \n25           11.84         88487.0  \n26           11.95         81669.0  \n27           11.80         88778.0  \n28           11.97         81688.0  \n29           11.82         88848.0  \n30           11.98         81437.0  \n31           11.87         88969.0  \n32           12.01         81186.0  \n33           11.91         88900.0  \n34           12.01         81153.0  \n35           11.90         88841.0  \n36           11.98         81010.0  \n37           11.90         88776.0  \n38           12.02         81098.0  \n39           11.88         88934.0  ",
      "text/html": "<div>\n<style scoped>\n    .dataframe tbody tr th:only-of-type {\n        vertical-align: middle;\n    }\n\n    .dataframe tbody tr th {\n        vertical-align: top;\n    }\n\n    .dataframe thead th {\n        text-align: right;\n    }\n</style>\n<table border=\"1\" class=\"dataframe\">\n  <thead>\n    <tr style=\"text-align: right;\">\n      <th></th>\n      <th>date</th>\n      <th>group</th>\n      <th>count_visits</th>\n      <th>count_purchases</th>\n      <th>sum_price</th>\n      <th>conversion</th>\n      <th>mean_check</th>\n      <th>cum_count_visits</th>\n      <th>cum_count_purchases</th>\n      <th>cum_sum_price</th>\n      <th>cum_conversion</th>\n      <th>cum_mean_check</th>\n    </tr>\n  </thead>\n  <tbody>\n    <tr>\n      <th>20</th>\n      <td>2021-01-12</td>\n      <td>A</td>\n      <td>6540</td>\n      <td>795</td>\n      <td>68460000</td>\n      <td>12.16</td>\n      <td>86113.0</td>\n      <td>68852</td>\n      <td>8198</td>\n      <td>668070000</td>\n      <td>11.91</td>\n      <td>81492.0</td>\n    </tr>\n    <tr>\n      <th>21</th>\n      <td>2021-01-12</td>\n      <td>B</td>\n      <td>6635</td>\n      <td>807</td>\n      <td>70560000</td>\n      <td>12.16</td>\n      <td>87435.0</td>\n      <td>69251</td>\n      <td>8236</td>\n      <td>727670000</td>\n      <td>11.89</td>\n      <td>88352.0</td>\n    </tr>\n    <tr>\n      <th>22</th>\n      <td>2021-01-13</td>\n      <td>A</td>\n      <td>6564</td>\n      <td>764</td>\n      <td>63590000</td>\n      <td>11.64</td>\n      <td>83233.0</td>\n      <td>75416</td>\n      <td>8962</td>\n      <td>731660000</td>\n      <td>11.88</td>\n      <td>81640.0</td>\n    </tr>\n    <tr>\n      <th>23</th>\n      <td>2021-01-13</td>\n      <td>B</td>\n      <td>6495</td>\n      <td>720</td>\n      <td>65910000</td>\n      <td>11.09</td>\n      <td>91542.0</td>\n      <td>75746</td>\n      <td>8956</td>\n      <td>793580000</td>\n      <td>11.82</td>\n      <td>88609.0</td>\n    </tr>\n    <tr>\n      <th>24</th>\n      <td>2021-01-14</td>\n      <td>A</td>\n      <td>6543</td>\n      <td>825</td>\n      <td>65890000</td>\n      <td>12.61</td>\n      <td>79867.0</td>\n      <td>81959</td>\n      <td>9787</td>\n      <td>797550000</td>\n      <td>11.94</td>\n      <td>81491.0</td>\n    </tr>\n    <tr>\n      <th>25</th>\n      <td>2021-01-14</td>\n      <td>B</td>\n      <td>6608</td>\n      <td>792</td>\n      <td>68990000</td>\n      <td>11.99</td>\n      <td>87109.0</td>\n      <td>82354</td>\n      <td>9748</td>\n      <td>862570000</td>\n      <td>11.84</td>\n      <td>88487.0</td>\n    </tr>\n    <tr>\n      <th>26</th>\n      <td>2021-01-15</td>\n      <td>A</td>\n      <td>6701</td>\n      <td>806</td>\n      <td>67570000</td>\n      <td>12.03</td>\n      <td>83834.0</td>\n      <td>88660</td>\n      <td>10593</td>\n      <td>865120000</td>\n      <td>11.95</td>\n      <td>81669.0</td>\n    </tr>\n    <tr>\n      <th>27</th>\n      <td>2021-01-15</td>\n      <td>B</td>\n      <td>6563</td>\n      <td>747</td>\n      <td>69160000</td>\n      <td>11.38</td>\n      <td>92584.0</td>\n      <td>88917</td>\n      <td>10495</td>\n      <td>931730000</td>\n      <td>11.80</td>\n      <td>88778.0</td>\n    </tr>\n    <tr>\n      <th>28</th>\n      <td>2021-01-16</td>\n      <td>A</td>\n      <td>6601</td>\n      <td>808</td>\n      <td>66210000</td>\n      <td>12.24</td>\n      <td>81943.0</td>\n      <td>95261</td>\n      <td>11401</td>\n      <td>931330000</td>\n      <td>11.97</td>\n      <td>81688.0</td>\n    </tr>\n    <tr>\n      <th>29</th>\n      <td>2021-01-16</td>\n      <td>B</td>\n      <td>6544</td>\n      <td>786</td>\n      <td>70560000</td>\n      <td>12.01</td>\n      <td>89771.0</td>\n      <td>95461</td>\n      <td>11281</td>\n      <td>1002290000</td>\n      <td>11.82</td>\n      <td>88848.0</td>\n    </tr>\n    <tr>\n      <th>30</th>\n      <td>2021-01-17</td>\n      <td>A</td>\n      <td>6619</td>\n      <td>809</td>\n      <td>63020000</td>\n      <td>12.22</td>\n      <td>77899.0</td>\n      <td>101880</td>\n      <td>12210</td>\n      <td>994350000</td>\n      <td>11.98</td>\n      <td>81437.0</td>\n    </tr>\n    <tr>\n      <th>31</th>\n      <td>2021-01-17</td>\n      <td>B</td>\n      <td>6546</td>\n      <td>831</td>\n      <td>75300000</td>\n      <td>12.69</td>\n      <td>90614.0</td>\n      <td>102007</td>\n      <td>12112</td>\n      <td>1077590000</td>\n      <td>11.87</td>\n      <td>88969.0</td>\n    </tr>\n    <tr>\n      <th>32</th>\n      <td>2021-01-18</td>\n      <td>A</td>\n      <td>6511</td>\n      <td>812</td>\n      <td>62850000</td>\n      <td>12.47</td>\n      <td>77401.0</td>\n      <td>108391</td>\n      <td>13022</td>\n      <td>1057200000</td>\n      <td>12.01</td>\n      <td>81186.0</td>\n    </tr>\n    <tr>\n      <th>33</th>\n      <td>2021-01-18</td>\n      <td>B</td>\n      <td>6603</td>\n      <td>822</td>\n      <td>72240000</td>\n      <td>12.45</td>\n      <td>87883.0</td>\n      <td>108610</td>\n      <td>12934</td>\n      <td>1149830000</td>\n      <td>11.91</td>\n      <td>88900.0</td>\n    </tr>\n    <tr>\n      <th>34</th>\n      <td>2021-01-19</td>\n      <td>A</td>\n      <td>6582</td>\n      <td>790</td>\n      <td>63680000</td>\n      <td>12.00</td>\n      <td>80608.0</td>\n      <td>114973</td>\n      <td>13812</td>\n      <td>1120880000</td>\n      <td>12.01</td>\n      <td>81153.0</td>\n    </tr>\n    <tr>\n      <th>35</th>\n      <td>2021-01-19</td>\n      <td>B</td>\n      <td>6562</td>\n      <td>772</td>\n      <td>67820000</td>\n      <td>11.76</td>\n      <td>87850.0</td>\n      <td>115172</td>\n      <td>13706</td>\n      <td>1217650000</td>\n      <td>11.90</td>\n      <td>88841.0</td>\n    </tr>\n    <tr>\n      <th>36</th>\n      <td>2021-01-20</td>\n      <td>A</td>\n      <td>6533</td>\n      <td>749</td>\n      <td>58710000</td>\n      <td>11.46</td>\n      <td>78385.0</td>\n      <td>121506</td>\n      <td>14561</td>\n      <td>1179590000</td>\n      <td>11.98</td>\n      <td>81010.0</td>\n    </tr>\n    <tr>\n      <th>37</th>\n      <td>2021-01-20</td>\n      <td>B</td>\n      <td>6685</td>\n      <td>790</td>\n      <td>69250000</td>\n      <td>11.82</td>\n      <td>87658.0</td>\n      <td>121857</td>\n      <td>14496</td>\n      <td>1286900000</td>\n      <td>11.90</td>\n      <td>88776.0</td>\n    </tr>\n    <tr>\n      <th>38</th>\n      <td>2021-01-21</td>\n      <td>A</td>\n      <td>6750</td>\n      <td>851</td>\n      <td>70300000</td>\n      <td>12.61</td>\n      <td>82609.0</td>\n      <td>128256</td>\n      <td>15412</td>\n      <td>1249890000</td>\n      <td>12.02</td>\n      <td>81098.0</td>\n    </tr>\n    <tr>\n      <th>39</th>\n      <td>2021-01-21</td>\n      <td>B</td>\n      <td>6555</td>\n      <td>760</td>\n      <td>69870000</td>\n      <td>11.59</td>\n      <td>91934.0</td>\n      <td>128412</td>\n      <td>15256</td>\n      <td>1356770000</td>\n      <td>11.88</td>\n      <td>88934.0</td>\n    </tr>\n  </tbody>\n</table>\n</div>"
     },
     "metadata": {},
     "output_type": "display_data"
    }
   ],
   "source": [
    "# вычисляем кумулятивное количество посещений страницы:\n",
    "daily_data['cum_count_visits'] = daily_data.groupby(['group'])['count_visits'].cumsum()\n",
    "# вычисляем кумулятивное количество покупок:\n",
    "daily_data['cum_count_purchases'] = daily_data.groupby(['group'])['count_purchases'].cumsum()\n",
    "# вычисляем кумулятивную сумму покупок:\n",
    "daily_data['cum_sum_price'] = daily_data.groupby(['group'])['sum_price'].cumsum()\n",
    "# вычисляем кумулятивную конверсию и кумулятивный средний чек:\n",
    "daily_data['cum_conversion'] = round(daily_data['cum_count_purchases']/daily_data['cum_count_visits'] * 100, 2)\n",
    "daily_data['cum_mean_check'] = round(daily_data['cum_sum_price']/daily_data['cum_count_purchases'])\n",
    "\n",
    "display(daily_data[20:40])"
   ]
  },
  {
   "cell_type": "markdown",
   "id": "c252b8ba-371b-4795-8fc3-a62317e9ba39",
   "metadata": {},
   "source": [
    "Постройте кумулятивные графики конверсии и среднего чека в каждой группе по дням. Сделайте выводы. Можно ли назвать A/B-тест завершенным - стабилизировались ли значения метрик во времени? Как соотносятся кумулятивные показатели в каждой группе?"
   ]
  },
  {
   "cell_type": "code",
   "execution_count": 14,
   "id": "27e23d20-7ed6-4a26-973d-6d0320b81adb",
   "metadata": {},
   "outputs": [
    {
     "data": {
      "text/plain": "<Figure size 1008x864 with 2 Axes>",
      "image/png": "[encoded data removed]"
     },
     "metadata": {
      "needs_background": "light"
     },
     "output_type": "display_data"
    }
   ],
   "source": [
    "# формируем размеры диаграмм:\n",
    "fig2, ax2 = plt.subplots(nrows=2, ncols=1, sharex='col', figsize=(14, 12))\n",
    "plt.suptitle('Кумулятивные показатели в группах по дням теста', size=20)\n",
    "\n",
    "# строим график для кумулятивной конверсии:\n",
    "sns.lineplot(x='date', y='cum_conversion', data=daily_data, hue='group',\n",
    "             palette='flare', linewidth = 2, ax=ax2[0]).xaxis.grid(linestyle='--')\n",
    "ax2[0].set_title('КОНВЕРСИЯ (в процентах)', ha='left', x=.0, fontsize=16)\n",
    "ax2[0].legend(['группа A', 'группа B'], loc='upper right', fontsize=14)\n",
    "ax2[0].set_ylabel('')\n",
    "ax2[0].set_yticks(np.arange(11.2, 13, 0.2))\n",
    "\n",
    "# строим график для кумулятивного среднего чека:\n",
    "sns.lineplot(x=daily_data['date'], y=daily_data['cum_mean_check']/1000, hue=daily_data['group'],\n",
    "             palette='YlGnBu', linewidth = 2, ax=ax2[1]).xaxis.grid(linestyle='--')\n",
    "ax2[1].set_title('СРЕДНИЙ ЧЕК (в тысячах рублей)', ha='left', x=.0, fontsize=16)\n",
    "ax2[1].legend(['группа A', 'группа B'], loc='upper right', fontsize=14)\n",
    "ax2[1].set_ylabel('')\n",
    "ax2[1].set_xlabel('')\n",
    "ax2[1].set_yticks(np.arange(75, 100, 5))\n",
    "ax2[1].set_xticks(pd.date_range(start=daily_data['date'].min(), end=daily_data['date'].max(), periods=12).tolist(), size=14)\n",
    "ax2[1].xaxis.set_major_formatter(dates.DateFormatter('%d/%m'))\n",
    "ax2[1].tick_params(axis='x', labelsize=12);"
   ]
  },
  {
   "cell_type": "markdown",
   "id": "f645f8e5-ad16-4b3b-8228-fbdeeb286833",
   "metadata": {},
   "source": [
    "#### ВЫВОДЫ: На графиках хорошо видно, что к концу исследования обе метрики стабилизировались. В начале данные подвержены сильному колебанию, но со временем они выравниваются: прекращаются резкие пики и спады показателя, и линии постепенно выравниваются в почти горизонтальные прямые. Исследование можно считать завершенным.\n",
    "#### Конверсия в группе А стабильно, хоть и не значительно, выше конверсии в группе В.\n",
    "#### Средний чек же напротив, стабильно и значимо выше в группе В."
   ]
  },
  {
   "cell_type": "markdown",
   "id": "2ecaa382-56e2-47f4-b086-24b4742570a3",
   "metadata": {
    "tags": []
   },
   "source": [
    "## **Задание 7.10.**\n",
    "\n",
    "Настало время переходить к проверке статистической значимости разницы между метриками в группах. Начнем с конверсии.\n",
    "\n",
    "Какой тест вы примените для проверки гипотезы о равенстве конверсий в группах?\n",
    "\n",
    "Проведите тестирование при следующих нулевой и альтернативной гипотезе:\n",
    "* $H_0$: Конверсии в группах А и B равны; \n",
    "* $H_1$: Конверсия в группе А больше чем конверсия в группе B;\n",
    "\n",
    "Вычислите p-value вашего теста для конверсий в группах А и B. Сравните полученное значение p-value с уровнем значимости $\\alpha$=0.05. "
   ]
  },
  {
   "cell_type": "code",
   "execution_count": 15,
   "id": "9dd1f6fd-2fa0-4a2f-8181-dbed4c302bce",
   "metadata": {},
   "outputs": [
    {
     "name": "stdout",
     "output_type": "stream",
     "text": [
      "Пропорции пользователей, которые совершили целевое действие:\n"
     ]
    },
    {
     "data": {
      "text/plain": "         sum   count\ngroup               \nA      17487  145307\nB      17290  145381",
      "text/html": "<div>\n<style scoped>\n    .dataframe tbody tr th:only-of-type {\n        vertical-align: middle;\n    }\n\n    .dataframe tbody tr th {\n        vertical-align: top;\n    }\n\n    .dataframe thead th {\n        text-align: right;\n    }\n</style>\n<table border=\"1\" class=\"dataframe\">\n  <thead>\n    <tr style=\"text-align: right;\">\n      <th></th>\n      <th>sum</th>\n      <th>count</th>\n    </tr>\n    <tr>\n      <th>group</th>\n      <th></th>\n      <th></th>\n    </tr>\n  </thead>\n  <tbody>\n    <tr>\n      <th>A</th>\n      <td>17487</td>\n      <td>145307</td>\n    </tr>\n    <tr>\n      <th>B</th>\n      <td>17290</td>\n      <td>145381</td>\n    </tr>\n  </tbody>\n</table>\n</div>"
     },
     "metadata": {},
     "output_type": "display_data"
    },
    {
     "name": "stdout",
     "output_type": "stream",
     "text": [
      "\n",
      "Для проверки гипотезы равенства пропорций воспользуемся z-критерием для пропорций:\n",
      "p-value:  0.12\n",
      "Принимаем нулевую гипотезу: Конверсии в группах А и B равны.\n"
     ]
    }
   ],
   "source": [
    "# составим пропорции пользователей, которые совершили целевое действие:\n",
    "converted_data = updated_data.groupby('group')['purchase'].agg(['sum', 'count'])\n",
    "\n",
    "print('Пропорции пользователей, которые совершили целевое действие:')\n",
    "display(converted_data)\n",
    "\n",
    "# поскольку конверсия — это пропорция, для проверки гипотезы равенства пропорций воспользуемся z-критерием для пропорций:\n",
    "print('\\nДля проверки гипотезы равенства пропорций воспользуемся z-критерием для пропорций:')\n",
    "\n",
    "# нулевая и альтернативная гипотезы\n",
    "H0 = 'Конверсии в группах А и B равны.'\n",
    "H1 = 'Конверсия в группе А больше, чем конверсия в группе B.'\n",
    "alpha = 0.05 # уровень значимости\n",
    "\n",
    "# вычисляем значение p-value для z-теста для пропорций\n",
    "_, p_value = proportions_ztest(\n",
    "    count=converted_data['sum'],\n",
    "    nobs=converted_data['count'],\n",
    "    alternative='larger' # если альтернативная гипотеза состоит в точ, что конверсия А меньше B\n",
    ")\n",
    "\n",
    "print('p-value: ', round(p_value, 2))\n",
    "\n",
    "# сравниваем полученное p-value с уровнем значимости:\n",
    "if p_value < alpha:\n",
    "    print(\"Отвергаем нулевую гипотезу: {}\".format(H0))\n",
    "    print(\"Альтернативная гипотеза. H1: {}\".format(H1))\n",
    "else:\n",
    "    print(\"Принимаем нулевую гипотезу: {}\".format(H0))"
   ]
  },
  {
   "cell_type": "markdown",
   "id": "da794b48-80e3-47af-aceb-084a1862c86b",
   "metadata": {},
   "source": [
    "Приведите свои выводы по результатам проведенного статистического теста. Есть ли статистическая разница между конверсиями в группах А и B?"
   ]
  },
  {
   "cell_type": "markdown",
   "id": "75dddb06-389d-4d65-92c7-425efa28e51a",
   "metadata": {},
   "source": [
    "#### ВЫВОДЫ:  Так как z-тест для пропорций показал, что истинные значения конверсий в группах равны (с уровнем значимости 0.05), то полученная разница в метрике - статистически не значима.\n",
    "#### То есть разницы между двумя вариантами страницы сайта по метрике конверсии покупки нет. Для конверсии покупки оба варианта одинаково эффективны!"
   ]
  },
  {
   "cell_type": "markdown",
   "id": "32c5a1af-8cb2-4f3c-a126-410b70fb3ff3",
   "metadata": {
    "tags": []
   },
   "source": [
    "## **Задание 7.11.**\n",
    "Убедитесь в своих рассуждениях, построив 95%-ый доверительный интервал для конверсий и разницы между ними. Используйте $z_{крит}$ в своих расчетах\n",
    "\n",
    "Укажите нижнюю и верхнюю границы доверительных интервалов. Границы приведите в процентах и округлите до 2 знака после запятой. Например: нижняя граница 89.24%, верхняя граница 91.25%."
   ]
  },
  {
   "cell_type": "code",
   "execution_count": 16,
   "id": "e9decb7d-ff5e-40a6-8b71-63627c4ef64a",
   "metadata": {},
   "outputs": [
    {
     "name": "stdout",
     "output_type": "stream",
     "text": [
      "Доверительный интервал для конверсии группы А: (11.87, 12.2)\n",
      "Доверительный интервал для конверсии группы B: (11.73, 12.06)\n",
      "\n",
      "Доверительный интервал для разности конверсий: (-0.38, 0.09)\n",
      "\n"
     ]
    },
    {
     "data": {
      "text/plain": "<Figure size 864x288 with 1 Axes>",
      "image/png": "[encoded data removed]"
     },
     "metadata": {
      "needs_background": "light"
     },
     "output_type": "display_data"
    }
   ],
   "source": [
    "# функция для расчета доверительного интервала пропорций и доверительного интервала разницы конверсий:\n",
    "def get_proportions_conf_interval(n, x_p, gamma=0.95):\n",
    "    \"\"\"\n",
    "    :param n: sample size\n",
    "    :param x_p: sample mean\n",
    "    :param gamma: confidence level\n",
    "    :return: confidence interval\n",
    "    \"\"\"\n",
    "    a = 1 - gamma\n",
    "    z_crit = -norm.ppf(a/2)\n",
    "    eps = z_crit * (x_p * (1 - x_p) / n) ** 0.5\n",
    "    lower_bound = x_p - eps\n",
    "    upper_bound = x_p + eps\n",
    "    return round(lower_bound * 100, 2), round(upper_bound * 100, 2)\n",
    "\n",
    "\n",
    "def get_diff_proportions_conf_interval(n, xp, gamma=0.95):\n",
    "    \"\"\"\n",
    "    :param n: list of sample sizes A and B\n",
    "    :param xp: list of sample means A and B\n",
    "    :param gamma: confidence level\n",
    "    :return: confidence interval\n",
    "    \"\"\"\n",
    "    a = 1 - gamma\n",
    "    diff = xp[1] - xp[0]\n",
    "    z_crit = -norm.ppf(a/2)\n",
    "    eps = z_crit * (xp[0] * (1 - xp[0])/n[0] + xp[1] * (1 - xp[1])/n[1]) ** 0.5\n",
    "    lower_bound = diff - eps\n",
    "    upper_bound = diff + eps\n",
    "    return round(lower_bound *100, 2), round(upper_bound * 100, 2)\n",
    "\n",
    "\n",
    "# данные по группам (размер выборки и выборочная пропорция):\n",
    "count_a = updated_data[updated_data['group'] == 'A']['user_id'].count()\n",
    "count_b = updated_data[updated_data['group'] == 'B']['user_id'].count()\n",
    "convert_a = updated_data[updated_data['group'] == 'A']['purchase'].mean()\n",
    "convert_b = updated_data[updated_data['group'] == 'B']['purchase'].mean()\n",
    "\n",
    "# рассчитаем доверительные интервалы показателя конверсии по группам:\n",
    "conf_interval_a = get_proportions_conf_interval(count_a, convert_a)\n",
    "conf_interval_b = get_proportions_conf_interval(count_b, convert_b)\n",
    "print('Доверительный интервал для конверсии группы А: {}'.format(conf_interval_a))\n",
    "print('Доверительный интервал для конверсии группы B: {}\\n'.format(conf_interval_b))\n",
    "\n",
    "# визуализируем полученные результаты:\n",
    "fig3, ax3 = plt.subplots(1, 1, figsize = (12, 4))\n",
    "plt.suptitle('Доверительные интервалы показателя конверсии', size=16)\n",
    "x1, x2, y1, y2 = conf_interval_a, conf_interval_b, [1, 1], [1.2, 1.2]\n",
    "plt.plot(x1, y1, label='в группе А', c='indianred', linewidth=10)\n",
    "plt.plot(x2, y2, label='в группе B', c='darkseagreen', linewidth=10)\n",
    "plt.legend(fontsize=12)\n",
    "plt.ylim(0, 3)\n",
    "ax3.set_yticks(range(0, 100, 100))\n",
    "ax3.set_yticklabels('')\n",
    "\n",
    "# рассчитаем доверительный интервал для разности конверсий:\n",
    "diff_interval = get_diff_proportions_conf_interval([count_a, count_b], [convert_a, convert_b])\n",
    "print('Доверительный интервал для разности конверсий: {}\\n'.format(diff_interval));"
   ]
  },
  {
   "cell_type": "markdown",
   "id": "9332372d-66b2-45e9-a74c-f5d8b1d44afb",
   "metadata": {},
   "source": [
    "Проинтерпретируйте построенные доверительные интервалы для конверсий в группах. Есть ли перекрытие между доверительными интервалами для групп? Есть ли статистическая разница между конверсиями в группах А и B?"
   ]
  },
  {
   "cell_type": "markdown",
   "id": "3d7ae49b-3662-4f8d-b7a2-c22a70b47bb8",
   "metadata": {
    "pycharm": {
     "name": "#%% md\n"
    }
   },
   "source": [
    "#### ВЫВОДЫ: Данные доверительные интервалы показателя конверсии имеют значимое пересечение. То есть существует вероятность, что истинное значение конверсии в обеих группах может совпадать.\n",
    "\n",
    "#### Построенный доверительный интервал разницы конверсий с 95 %-ой надёжностью говорит нам, что эта разница лежит в интервале от -0.38 % до 0.09 %. То есть может быть как положительной, так и отрицательной.\n",
    "\n",
    "#### Отсюда делаем вывод, что статистической разницы в конверсии между вариантами А и B не существует, то есть они являются равнозначными по данной метрике."
   ]
  },
  {
   "cell_type": "markdown",
   "id": "73c54883-b919-4889-bbf2-e1bdeb0b7055",
   "metadata": {},
   "source": [
    "## **Задание 7.12.**\n",
    "\n",
    "Ранее мы построили таблицу с ежедневными показателями. Теперь она нам снова понадобится, так как нас интересует ежедневный средний чек.\n",
    "\n",
    "Проверьте гипотезу о нормальности распределения ежедневного среднего чека в каждой из групп тестирования. \n",
    "\n",
    "* Какой тест вы примените  для проверки гипотезы о нормальности распределения ежедневного среднего чека?\n",
    "* Как будут звучать нулевая и альтернативная гипотезы?\n",
    "* Каковы результаты статистического теста с уровнем значимости $\\alpha$ =0.05?"
   ]
  },
  {
   "cell_type": "code",
   "execution_count": 17,
   "id": "898041ae-de7e-4b74-975e-111d494fbb82",
   "metadata": {},
   "outputs": [
    {
     "name": "stdout",
     "output_type": "stream",
     "text": [
      "Воспользуемся критерием нормальности Шапиро-Уилка, который является надёжным и пригоден для небольших выборок:\n",
      "\n",
      "p-value группы А 0.25\n",
      "p-value группы B 0.09\n",
      "Принимаем нулевую гипотезу: Распределения в обеих группах нормальные.\n"
     ]
    }
   ],
   "source": [
    "print('Воспользуемся критерием нормальности Шапиро-Уилка, который является надёжным и пригоден для небольших выборок:\\n')\n",
    "\n",
    "# нулевая и альтернативная гипотезы и уровень значимости:\n",
    "H0 = 'Распределения в обеих группах нормальные.'\n",
    "H1 = 'Распределение в одной или обеих группах отлично от нормального.'\n",
    "alpha = 0.05\n",
    "\n",
    "# вычисляем результат теста Шапиро-Уилка для выборок\n",
    "shapiro_result_a = shapiro(daily_data[daily_data['group'] == 'A']['mean_check'])\n",
    "shapiro_result_b = shapiro(daily_data[daily_data['group'] == 'B']['mean_check'])\n",
    "print('p-value группы А', round(shapiro_result_a.pvalue, 2))\n",
    "print('p-value группы B', round(shapiro_result_b.pvalue, 2))\n",
    "\n",
    "# сравниваем полученное p-value с уровнем значимости\n",
    "if shapiro_result_a.pvalue < alpha or shapiro_result_b.pvalue < alpha:\n",
    "    print(\"Отвергаем нулевую гипотезу: {}\".format(H0))\n",
    "    print(\"Альтернативная гипотеза. H1: {}\".format(H1))\n",
    "else:\n",
    "    print(\"Принимаем нулевую гипотезу: {}\".format(H0))"
   ]
  },
  {
   "cell_type": "markdown",
   "id": "cbddecf9-4d15-4ff1-84e9-46c4d98fc1e0",
   "metadata": {
    "tags": []
   },
   "source": [
    "## **Задание 7.13.**\n",
    "Настало время сравнить варианты дизайна страницы по метрике среднего чека. \n",
    "\n",
    "Какой тест вы примените для проверки гипотезы о равенстве средних чеков по дням в группах?\n",
    "\n",
    "Проведите тестирование при следующих нулевой и альтернативной гипотезе:\n",
    "* $H_0$: Ежедневные средние чеки в группах А и B равны; \n",
    "* $H_1$: Ежедневный средний чек в группе А меньше чем в группе B;\n",
    "\n",
    "Вычислите p-value вашего теста для ежедневного среднего чека в группах А и B. Сравните полученное значение p-value с уровнем значимости $\\alpha$ =0.05. "
   ]
  },
  {
   "cell_type": "code",
   "execution_count": 18,
   "id": "05d43f23-2c2d-4795-bb96-1ffbfe81c391",
   "metadata": {},
   "outputs": [
    {
     "name": "stdout",
     "output_type": "stream",
     "text": [
      "Для сравнения двух небольших независимых нормально распределенных выборок хорошо подходит T-тест:\n",
      "\n",
      "p-value: 0.0\n",
      "Отвергаем нулевую гипотезу: Ежедневные средние чеки в группах А и B равны.\n",
      "Альтернативная гипотеза. H1: Ежедневный средний чек в группе А меньше чем в группе B.\n"
     ]
    }
   ],
   "source": [
    "print('Для сравнения двух небольших независимых нормально распределенных выборок хорошо подходит T-тест:\\n')\n",
    "\n",
    "# нулевая и альтернативная гипотезы\n",
    "H0 = 'Ежедневные средние чеки в группах А и B равны.'\n",
    "H1 = 'Ежедневный средний чек в группе А меньше чем в группе B.'\n",
    "alpha = 0.05 #уровень значимости\n",
    "\n",
    "#вычисляем результат T-теста для выборок\n",
    "results = ttest_ind(\n",
    "    a=daily_data[daily_data['group'] == 'A']['mean_check'],\n",
    "    b=daily_data[daily_data['group'] == 'B']['mean_check'],\n",
    "    alternative='less'\n",
    ")\n",
    "\n",
    "print('p-value:', round(results.pvalue, 2))\n",
    "\n",
    "if results.pvalue < alpha:\n",
    "    print(\"Отвергаем нулевую гипотезу: {}\".format(H0))\n",
    "    print(\"Альтернативная гипотеза. H1: {}\".format(H1))\n",
    "else:\n",
    "    print(\"Принимаем нулевую гипотезу: {}\".format(H0))"
   ]
  },
  {
   "cell_type": "markdown",
   "id": "8534ab25-68b8-48f7-b2c1-ef1b72d8a767",
   "metadata": {},
   "source": [
    " Приведите свои выводы по проведенному статистическому тесту. Есть ли статистическая разница между ежедневными средними чеками в группах А и B?"
   ]
  },
  {
   "cell_type": "markdown",
   "id": "d8258dfd-14e7-4af4-bc6c-19ea8932eab5",
   "metadata": {
    "pycharm": {
     "name": "#%% md\n"
    }
   },
   "source": [
    "#### ВЫВОДЫ: Поскольку значение p-value, по всей видимости, находится очень близко к нулю, то и вероятность принятия нулевой гипотезы ничтожно мала и значительно меньше заданного уровня значимости.\n",
    "\n",
    "#### Статистическая разница между ежедневными средними чеками в группах есть!"
   ]
  },
  {
   "cell_type": "markdown",
   "id": "5e46c9a6-a943-48b4-ad72-935337469613",
   "metadata": {
    "tags": []
   },
   "source": [
    "## **Задание 7.14.**\n",
    "\n",
    "Постройте 95%-ый доверительный интервал для среднего чека в каждой группе. Так как выборка средних чеков небольшая, используйте  $t_{крит}$ в своих расчетах.\n",
    "\n",
    "Укажите нижнюю границу доверительного интервала для истинного среднего чека каждой из групп. Ответ округлите до целого."
   ]
  },
  {
   "cell_type": "code",
   "execution_count": 19,
   "id": "480430db-ffae-4aad-8e22-f5c70d4800b8",
   "metadata": {},
   "outputs": [
    {
     "name": "stdout",
     "output_type": "stream",
     "text": [
      "Доверительный интервал для среднего чека группы А: (79630, 82308)\n",
      "Доверительный интервал для среднего чека группы B: (87626, 89526)\n",
      "\n"
     ]
    },
    {
     "data": {
      "text/plain": "<Figure size 864x288 with 1 Axes>",
      "image/png": "[encoded data removed]"
     },
     "metadata": {
      "needs_background": "light"
     },
     "output_type": "display_data"
    }
   ],
   "source": [
    "# функция для расчета доверительного интервала среднего чека с использованием t_критического:\n",
    "def get_sample_confidence_interval(sample: pd.Series, gamma=0.95):\n",
    "    \"\"\"\n",
    "    :param sample: data array in the form pd.Series\n",
    "    :param gamma: confidence level\n",
    "    :return: confidence interval\n",
    "    \"\"\"\n",
    "    a = 1 - gamma\n",
    "    k = sample.count() -1\n",
    "    t_crit = -t.ppf(a/2, k) # t-критическое\n",
    "    eps = t_crit * sample.std()/(sample.count() ** 0.5) # погрешность\n",
    "    lower_bound = sample.mean() - eps # левая (нижняя) граница\n",
    "    upper_bound = sample.mean() + eps # правая (верхняя) граница\n",
    "    return round(lower_bound), round(upper_bound)\n",
    "\n",
    "\n",
    "# построим 95%-ый доверительный интервал для среднего чека в каждой группе:\n",
    "conf_interval_a = get_sample_confidence_interval(daily_data[daily_data['group'] == 'A']['mean_check'])\n",
    "conf_interval_b = get_sample_confidence_interval(daily_data[daily_data['group'] == 'B']['mean_check'])\n",
    "\n",
    "print('Доверительный интервал для среднего чека группы А: {}'.format(conf_interval_a))\n",
    "print('Доверительный интервал для среднего чека группы B: {}\\n'.format(conf_interval_b))\n",
    "\n",
    "# визуализируем полученные результаты:\n",
    "fig4, ax4 = plt.subplots(1, 1, figsize = (12, 4))\n",
    "plt.suptitle('Доверительные интервалы ежедневного среднего чека', size=16)\n",
    "x1, x2, y1, y2 = conf_interval_a, conf_interval_b, [1, 1], [1.2, 1.2]\n",
    "plt.plot(x1, y1, label='в группе А', c='indianred', linewidth=10)\n",
    "plt.plot(x2, y2, label='в группе B', c='darkseagreen', linewidth=10)\n",
    "plt.legend(fontsize=12)\n",
    "plt.xlim(77000, 92000)\n",
    "plt.ylim(0, 3)\n",
    "ax4.set_yticks(range(0, 100, 100))\n",
    "ax4.set_yticklabels('');"
   ]
  },
  {
   "cell_type": "markdown",
   "id": "74a78db8-48f7-41d2-94cb-faefb30b8f76",
   "metadata": {},
   "source": [
    "Проинтерпретируйте построенные доверительные интервалы для ежедневных средних чеков в группах. Есть ли между ними пересечения?"
   ]
  },
  {
   "cell_type": "markdown",
   "id": "1ab3aad1-f4fd-485f-85ef-274a27fe7563",
   "metadata": {
    "pycharm": {
     "name": "#%% md\n"
    }
   },
   "source": [
    "#### ВЫВОДЫ: Данные доверительные интервалы не имеют пересечения. То есть, не существует вероятности, что истинное значение среднего чека в обеих группах может совпадать. Отсюда делаем вывод, что между вариантами А и B существует значимая разница по данной метрике."
   ]
  },
  {
   "cell_type": "markdown",
   "id": "c078852f-892f-42ed-8d78-73edf8eb1f5e",
   "metadata": {
    "tags": []
   },
   "source": [
    "## **Сделайте общий вывод по результатам A/B-теста**\n",
    "\n",
    "Какой варианта дизайна посадочной страницы является более эффективным в комплексе по метрикам конверсии и среднего чека и почему?"
   ]
  },
  {
   "cell_type": "markdown",
   "source": [
    "#### Общий вывод по результатам исследования может быть следующим: вариант В более эффективен.\n",
    "#### Разница по показателям ежедневного среднего чека существенна и статистически значима. В отличие от разницы по показателю конверсии, которую можно определить как одинаковую в обеих группах.\n",
    "##### Показатель ежедневного среднего чека в группе В выше за счет увеличения доли покупок более дорогих туров в Таиланд, и снижения интереса к более дешевым турам в Турцию.\n",
    "##### Поскольку это продукты разных типов:\n",
    "* имеющие разную сезонность (Турция - летний отдых, Таиланд - зимний);\n",
    "* имеющие разную географию (в Турцию проще добираться из европейской части России, в Таиланд - из азиатской);\n",
    "##### необходимо быть уверенным, что выборки не только количественно равноценны, но и хорошо сбалансированные качественно.\n",
    "#### Если предположить, что в выборках нет случайных перекосов по географии и/или сезонными предпочтениями покупателей, то можно делать однозначное заключение: второй вариант посадочной страницы официального сайта компании более эффективен!"
   ],
   "metadata": {
    "collapsed": false,
    "pycharm": {
     "name": "#%% md\n"
    }
   }
  }
 ],
 "metadata": {
  "kernelspec": {
   "display_name": "Python 3 (ipykernel)",
   "language": "python",
   "name": "python3"
  },
  "language_info": {
   "codemirror_mode": {
    "name": "ipython",
    "version": 3
   },
   "file_extension": ".py",
   "mimetype": "text/x-python",
   "name": "python",
   "nbconvert_exporter": "python",
   "pygments_lexer": "ipython3",
   "version": "3.8.8"
  }
 },
 "nbformat": 4,
 "nbformat_minor": 5
}