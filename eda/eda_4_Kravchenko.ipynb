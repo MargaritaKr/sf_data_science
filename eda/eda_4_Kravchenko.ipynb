{
 "cells": [
  {
   "cell_type": "markdown",
   "source": [
    "# Домашнее задание"
   ],
   "metadata": {
    "collapsed": false,
    "pycharm": {
     "name": "#%% md\n"
    }
   }
  },
  {
   "cell_type": "markdown",
   "source": [
    "Используя информацию по мидиям Петербурга и Магадана, которые представлены в виде двух массивов petersburg и magadan в разделе ANOVA тест, проверьте данные на нормальность и на наличие корреляции. Для этого:\n",
    " - объедините 2 массива в DataFrame.\n",
    " - Обоснуйте выбор теста на корреляцию.\n",
    " - Сделайте вывод по гипотезе.\n",
    "\n",
    "Также ответьте на вопрос:\n",
    "- Какова разница в среднем размере мидии в зависимости от города-производителя.\n",
    "- Обоснуйте выбор теста.\n",
    "- Сделайте вывод по гипотезе."
   ],
   "metadata": {
    "collapsed": false,
    "pycharm": {
     "name": "#%% md\n"
    }
   }
  },
  {
   "cell_type": "code",
   "execution_count": 10,
   "outputs": [],
   "source": [
    "import pandas as pd\n",
    "import matplotlib.pyplot as plt\n",
    "from scipy import stats\n",
    "from IPython.display import display"
   ],
   "metadata": {
    "collapsed": false,
    "pycharm": {
     "name": "#%%\n"
    }
   }
  },
  {
   "cell_type": "markdown",
   "source": [
    "### 1. Объединим 2 массива в DataFrame:"
   ],
   "metadata": {
    "collapsed": false
   }
  },
  {
   "cell_type": "code",
   "execution_count": 11,
   "outputs": [
    {
     "data": {
      "text/plain": "   Petersburg  Magadan\n0      0.0974   0.1033\n1      0.1352   0.0915\n2      0.0817   0.0781\n3      0.1016   0.0685\n4      0.0968   0.0677\n5      0.1064   0.0697\n6      0.1050   0.0764\n7         NaN   0.0689",
      "text/html": "<div>\n<style scoped>\n    .dataframe tbody tr th:only-of-type {\n        vertical-align: middle;\n    }\n\n    .dataframe tbody tr th {\n        vertical-align: top;\n    }\n\n    .dataframe thead th {\n        text-align: right;\n    }\n</style>\n<table border=\"1\" class=\"dataframe\">\n  <thead>\n    <tr style=\"text-align: right;\">\n      <th></th>\n      <th>Petersburg</th>\n      <th>Magadan</th>\n    </tr>\n  </thead>\n  <tbody>\n    <tr>\n      <th>0</th>\n      <td>0.0974</td>\n      <td>0.1033</td>\n    </tr>\n    <tr>\n      <th>1</th>\n      <td>0.1352</td>\n      <td>0.0915</td>\n    </tr>\n    <tr>\n      <th>2</th>\n      <td>0.0817</td>\n      <td>0.0781</td>\n    </tr>\n    <tr>\n      <th>3</th>\n      <td>0.1016</td>\n      <td>0.0685</td>\n    </tr>\n    <tr>\n      <th>4</th>\n      <td>0.0968</td>\n      <td>0.0677</td>\n    </tr>\n    <tr>\n      <th>5</th>\n      <td>0.1064</td>\n      <td>0.0697</td>\n    </tr>\n    <tr>\n      <th>6</th>\n      <td>0.1050</td>\n      <td>0.0764</td>\n    </tr>\n    <tr>\n      <th>7</th>\n      <td>NaN</td>\n      <td>0.0689</td>\n    </tr>\n  </tbody>\n</table>\n</div>"
     },
     "metadata": {},
     "output_type": "display_data"
    },
    {
     "name": "stdout",
     "output_type": "stream",
     "text": [
      "Для корректного использования данного DataFrame в последующем анализе дополним недостающее значение средним выборки:\n"
     ]
    },
    {
     "data": {
      "text/plain": "   Petersburg  Magadan\n0    0.097400   0.1033\n1    0.135200   0.0915\n2    0.081700   0.0781\n3    0.101600   0.0685\n4    0.096800   0.0677\n5    0.106400   0.0697\n6    0.105000   0.0764\n7    0.103443   0.0689",
      "text/html": "<div>\n<style scoped>\n    .dataframe tbody tr th:only-of-type {\n        vertical-align: middle;\n    }\n\n    .dataframe tbody tr th {\n        vertical-align: top;\n    }\n\n    .dataframe thead th {\n        text-align: right;\n    }\n</style>\n<table border=\"1\" class=\"dataframe\">\n  <thead>\n    <tr style=\"text-align: right;\">\n      <th></th>\n      <th>Petersburg</th>\n      <th>Magadan</th>\n    </tr>\n  </thead>\n  <tbody>\n    <tr>\n      <th>0</th>\n      <td>0.097400</td>\n      <td>0.1033</td>\n    </tr>\n    <tr>\n      <th>1</th>\n      <td>0.135200</td>\n      <td>0.0915</td>\n    </tr>\n    <tr>\n      <th>2</th>\n      <td>0.081700</td>\n      <td>0.0781</td>\n    </tr>\n    <tr>\n      <th>3</th>\n      <td>0.101600</td>\n      <td>0.0685</td>\n    </tr>\n    <tr>\n      <th>4</th>\n      <td>0.096800</td>\n      <td>0.0677</td>\n    </tr>\n    <tr>\n      <th>5</th>\n      <td>0.106400</td>\n      <td>0.0697</td>\n    </tr>\n    <tr>\n      <th>6</th>\n      <td>0.105000</td>\n      <td>0.0764</td>\n    </tr>\n    <tr>\n      <th>7</th>\n      <td>0.103443</td>\n      <td>0.0689</td>\n    </tr>\n  </tbody>\n</table>\n</div>"
     },
     "metadata": {},
     "output_type": "display_data"
    }
   ],
   "source": [
    "# исходные данные:\n",
    "petersburg = [0.0974, 0.1352, 0.0817, 0.1016, 0.0968, 0.1064, 0.105]\n",
    "magadan = [0.1033, 0.0915, 0.0781, 0.0685, 0.0677, 0.0697, 0.0764, 0.0689]\n",
    "\n",
    "# формируем DataFrame:\n",
    "oysters = pd.DataFrame({\n",
    "    'Petersburg': pd.Series(petersburg),\n",
    "    'Magadan': pd.Series(magadan)})\n",
    "\n",
    "display(oysters)\n",
    "\n",
    "# подготовим данные для последующего анализа:\n",
    "print('Для корректного использования данного DataFrame в последующем анализе дополним недостающее значение средним выборки:')\n",
    "\n",
    "oysters['Petersburg'].fillna(oysters['Petersburg'].mean(), inplace=True)\n",
    "display(oysters)"
   ],
   "metadata": {
    "collapsed": false,
    "pycharm": {
     "name": "#%%\n"
    }
   }
  },
  {
   "cell_type": "markdown",
   "source": [
    "##### Выборка по устрицам из Петербурга меньше, и в нашем DataFrame появилось значение NaN, которое будет искажать статистику показателей. Необходимо либо заменить его, либо сократить данные для Магадана на 1 значение. Поскольку мы работаем с малочисленными выборками, будем отталкиваться от идеи, что каждое значение статистически значимо. Поэтому недостающей показатель был заменен на среднее."
   ],
   "metadata": {
    "collapsed": false,
    "pycharm": {
     "name": "#%% md\n"
    }
   }
  },
  {
   "cell_type": "markdown",
   "source": [
    "### 2. Обоснуем выбор теста на корреляцию:"
   ],
   "metadata": {
    "collapsed": false
   }
  },
  {
   "cell_type": "markdown",
   "source": [
    "#### Проведем исследование в несколько этапов:\n",
    "#### - визуально оценим нормальность данных используя метод с графиками нормальных квантилей (q-q plot);\n",
    "#### - выберем и проведем тест на нормальность;\n",
    "#### - основываясь на характере данных и показателях нормальности распределения выберем тест на корреляцию:"
   ],
   "metadata": {
    "collapsed": false,
    "pycharm": {
     "name": "#%% md\n"
    }
   }
  },
  {
   "cell_type": "code",
   "execution_count": 12,
   "outputs": [
    {
     "data": {
      "text/plain": "<Figure size 1080x504 with 2 Axes>",
      "image/png": "[encoded data removed]"
     },
     "metadata": {
      "needs_background": "light"
     },
     "output_type": "display_data"
    }
   ],
   "source": [
    "fig, ax = plt.subplots(nrows=1, ncols=2, figsize=(15, 7))\n",
    "\n",
    "stats.probplot(oysters['Petersburg'], plot=ax[0])\n",
    "ax[0].set_title('Устрицы Петербурга (qq plot)')\n",
    "\n",
    "stats.probplot(oysters['Magadan'], plot=ax[1])\n",
    "ax[1].set_title('Устрицы Магадана (qq plot)')\n",
    "\n",
    "plt.show()"
   ],
   "metadata": {
    "collapsed": false,
    "pycharm": {
     "name": "#%%\n"
    }
   }
  },
  {
   "cell_type": "markdown",
   "source": [
    "##### Графическое представление вероятностей распределения выборок показывает, что наблюдения значимо отклоняются от прямой нормального распределения. Очевидно, что размер устриц из Петербурга распределен ближе к нормальному, а для выборки по устрицам из Магадана - коэффициент нормальности будет значимо низким."
   ],
   "metadata": {
    "collapsed": false,
    "pycharm": {
     "name": "#%% md\n"
    }
   }
  },
  {
   "cell_type": "code",
   "execution_count": 13,
   "outputs": [
    {
     "name": "stdout",
     "output_type": "stream",
     "text": [
      "Проведем тест Шапиро-Уилка:\n",
      "\n",
      "Для устриц из Петербурга: p=0.123\n",
      "Данные распределены нормально\n",
      "\n",
      "Для устриц из Магадана:p=0.036\n",
      "Данные не распределены нормально (мы отвергаем H0)\n"
     ]
    }
   ],
   "source": [
    "# формулируем гипотезы и устанавливаем конвенциональный порог:\n",
    "H0 = 'Данные распределены нормально'\n",
    "Ha = 'Данные не распределены нормально (мы отвергаем H0)'\n",
    "alpha = 0.05\n",
    "\n",
    "# учитывая небольшие размеры выборок наиболее мощным инструментом оценки нормальности в этом случае является тест Шапиро-Уилка:\n",
    "print('Проведем тест Шапиро-Уилка:\\n')\n",
    "\n",
    "_, p = stats.shapiro(oysters['Petersburg'])\n",
    "print('Для устриц из Петербурга: p=%.3f' % p)\n",
    "print(H0) if p > alpha else print(Ha)\n",
    "\n",
    "_, p = stats.shapiro(oysters['Magadan'])\n",
    "print('\\nДля устриц из Магадана:p=%.3f' % p)\n",
    "print(H0) if p > alpha else print(Ha)"
   ],
   "metadata": {
    "collapsed": false,
    "pycharm": {
     "name": "#%%\n"
    }
   }
  },
  {
   "cell_type": "markdown",
   "source": [
    "____\n",
    "#### Для проведения теста на корреляцию можно использовать параметрические и непараметрические методы. Непараметрические считаются менее мощными по сравнению с параметрическими. В то же время непараметрические методы более надежны в случаях, когда есть сомнения в том, что анализируемый признак имеет нормальное распределение.\n",
    "#### Ситуация с данными спорная:\n",
    "##### - с одной стороны, мы имеем дело с непрерывными, а не категориальными данными, одно из распределений имеет черты нормальности;\n",
    "##### - с другой стороны, одна из выборок не распределена нормально;\n",
    "#### Поэтому: проведем два теста на корреляцию - Пирсона и Спирмена, и сравним результат."
   ],
   "metadata": {
    "collapsed": false,
    "pycharm": {
     "name": "#%% md\n"
    }
   }
  },
  {
   "cell_type": "markdown",
   "source": [
    "##### Корреляция размеров устриц из разных городов, как влияние одной их выборок на другую - не имеет смысла. Однако все же можно попробовать осмысленно интерпретировать полученный результат. Предположим, что есть некий фактор или параметр, оказывающий одинаковое влияние на распределение размера устриц независимо от региона. Тогда данные будут иметь сильную корреляцию."
   ],
   "metadata": {
    "collapsed": false,
    "pycharm": {
     "name": "#%% md\n"
    }
   }
  },
  {
   "cell_type": "code",
   "execution_count": 14,
   "outputs": [
    {
     "name": "stdout",
     "output_type": "stream",
     "text": [
      "Коэффициент корреляции Пирсона: 0.245\n",
      "Вероятность отсутствия связи: 0.559\n",
      "Данные не коррелируют между собой. Общий фактор влияния отсутствует.\n",
      "\n",
      "Коэффициент корреляции Спирмена: 0.167\n",
      "Вероятность отсутствия связи: 0.693\n",
      "Данные не коррелируют между собой. Общий фактор влияния отсутствует.\n"
     ]
    }
   ],
   "source": [
    "# исходя из идеи о том, что есть некий фактор одинаково влияющий на изменение размеров любых устриц примем нулевую и альтернативную гипотезы:\n",
    "H0 = 'Данные не коррелируют между собой. Общий фактор влияния отсутствует.'\n",
    "Ha = 'Данные коррелируют между собой. Общий внешний фактор существует.(мы отвергаем H0)'\n",
    "\n",
    "# рассчитаем коэффициент корреляции и вероятность отсутствия связи по Пирсону:\n",
    "corr_pirson, p_p = stats.pearsonr(oysters['Petersburg'], oysters['Magadan'])\n",
    "\n",
    "# так как в функции scipy.stats.pearsonr  p это двухсторонняя p-величина, то при проверке H0 необходимо alpha/2\n",
    "print('Коэффициент корреляции Пирсона: %.3f' % corr_pirson)\n",
    "print('Вероятность отсутствия связи: %.3f' % p_p)\n",
    "print(H0) if p_p > alpha/2 else print(Ha)\n",
    "\n",
    "# рассчитаем коэффициент корреляции и вероятность отсутствия связи по Спирмену:\n",
    "corr_spearman, p_s = stats.spearmanr(oysters['Petersburg'], oysters['Magadan'])\n",
    "\n",
    "print('\\nКоэффициент корреляции Спирмена: %.3f' % corr_spearman)\n",
    "print('Вероятность отсутствия связи: %.3f' % p_s)\n",
    "print(H0) if p_s > alpha else print(Ha)"
   ],
   "metadata": {
    "collapsed": false,
    "pycharm": {
     "name": "#%%\n"
    }
   }
  },
  {
   "cell_type": "markdown",
   "source": [
    "### 3. Сделаем вывод по гипотезе:"
   ],
   "metadata": {
    "collapsed": false
   }
  },
  {
   "cell_type": "markdown",
   "source": [
    "##### Очевидно, что данные никак не связаны между собой. Предположение о влиянии одного параметра на другой не имеет смысла.\n",
    "##### Также отвергнута гипотеза о существовании некого внешнего параметра, который мог бы оказывать схожее влияние на данные совокупности, о чем бы свидетельствовало наличие корреляционной связи данных выборок.\n",
    "##### И корреляционный тест Пирсона и тест Спирмена показывают низкие коэффициенты корреляции данных и высокие вероятности отсутствия связи.\n",
    "#### Данные выборки значимо не коррелируют друг с другом и, имеют разную логику распределения данных.\n",
    "___"
   ],
   "metadata": {
    "collapsed": false,
    "pycharm": {
     "name": "#%% md\n"
    }
   }
  },
  {
   "cell_type": "markdown",
   "source": [
    "### 4. Какова разница в среднем размере мидии в зависимости от города-производителя?"
   ],
   "metadata": {
    "collapsed": false,
    "pycharm": {
     "name": "#%% md\n"
    }
   }
  },
  {
   "cell_type": "code",
   "execution_count": 15,
   "outputs": [
    {
     "name": "stdout",
     "output_type": "stream",
     "text": [
      "Средний размер мидий из Петербурга - 0.103\n",
      "Средний размер мидий из Магадана - 0.078\n",
      "\n",
      "Разница размеров составляет - 0.025 ед.\n"
     ]
    }
   ],
   "source": [
    "# рассчитаем средние размеры мидий по двум городам:\n",
    "oysters_petersburg_mean = round(oysters['Petersburg'].mean(), 3)\n",
    "print(f'Средний размер мидий из Петербурга - {oysters_petersburg_mean}')\n",
    "\n",
    "oysters_magadan_mean = round(oysters['Magadan'].mean(), 3)\n",
    "print(f'Средний размер мидий из Магадана - {oysters_magadan_mean}')\n",
    "\n",
    "oysters_diff = abs(round(oysters_petersburg_mean - oysters_magadan_mean, 3))\n",
    "print(f'\\nРазница размеров составляет - {oysters_diff} ед.')"
   ],
   "metadata": {
    "collapsed": false,
    "pycharm": {
     "name": "#%%\n"
    }
   }
  },
  {
   "cell_type": "markdown",
   "source": [
    "#### Разница среднего размера мидий существенна. Можно сказать, что мидии из Магадана в среднем почти на четверть меньше мидий из Петербурга."
   ],
   "metadata": {
    "collapsed": false,
    "pycharm": {
     "name": "#%% md\n"
    }
   }
  },
  {
   "cell_type": "markdown",
   "source": [
    "### 5. Обоснуем выбор теста и проведем тест на сравнение выборок:"
   ],
   "metadata": {
    "collapsed": false,
    "pycharm": {
     "name": "#%% md\n"
    }
   }
  },
  {
   "cell_type": "markdown",
   "source": [
    "####  Необходим тест на сравнение двух выборок. Независимой категориальной переменной будет выступать город-производитель устриц. Зависимой количественной переменной - размер устриц.\n",
    "#### Для этих целей хорошо подходит независимый t-тест (так как сравнивается ровно две группы).\n",
    "T-критерий описывается как статистический критерий, который проверяет, сильно ли отличаются значения совокупности двух выборок, используя t-распределение, которое используется, когда стандартное отклонение неизвестно, а размер выборки невелик. Это инструмент для анализа, взяты ли две выборки из одной популяции.\n"
   ],
   "metadata": {
    "collapsed": false,
    "pycharm": {
     "name": "#%% md\n"
    }
   }
  },
  {
   "cell_type": "code",
   "execution_count": 16,
   "outputs": [
    {
     "name": "stdout",
     "output_type": "stream",
     "text": [
      "Вероятность отсутствия значимой разницы средних параметров в выборках составляет - 0.003\n",
      "\n",
      "Принимаем альтернативную гипотезу:  Есть значимая разница между размерами устриц в разных городах.\n"
     ]
    }
   ],
   "source": [
    "# сформулируем гипотезы:\n",
    "H0 = 'Нет значимой разницы между размерами устриц в разных городах.'\n",
    "Ha = 'Есть значимая разница между размерами устриц в разных городах.'\n",
    "\n",
    "# проведем t-тест и рассчитаем значение p-value:\n",
    "test_results = stats.ttest_ind(oysters['Petersburg'], oysters['Magadan'], equal_var=True)\n",
    "p = round(test_results[1],3)\n",
    "\n",
    "print(f'Вероятность отсутствия значимой разницы средних параметров в выборках составляет - {p}\\n')\n",
    "print('Принимаем нулевую гипотезу: ', H0) if p > alpha else print('Принимаем альтернативную гипотезу: ', Ha)"
   ],
   "metadata": {
    "collapsed": false,
    "pycharm": {
     "name": "#%%\n"
    }
   }
  },
  {
   "cell_type": "markdown",
   "source": [
    "### 6. Сделаем вывод по гипотезе:"
   ],
   "metadata": {
    "collapsed": false,
    "pycharm": {
     "name": "#%% md\n"
    }
   }
  },
  {
   "cell_type": "markdown",
   "source": [
    "####  Значимая разница между размерами устриц из разных городов подтверждается результатами t-теста, также как и простым сравнением средних показателей по двум выборкам."
   ],
   "metadata": {
    "collapsed": false,
    "pycharm": {
     "name": "#%% md\n"
    }
   }
  }
 ],
 "metadata": {
  "kernelspec": {
   "display_name": "Python 3",
   "language": "python",
   "name": "python3"
  },
  "language_info": {
   "codemirror_mode": {
    "name": "ipython",
    "version": 2
   },
   "file_extension": ".py",
   "mimetype": "text/x-python",
   "name": "python",
   "nbconvert_exporter": "python",
   "pygments_lexer": "ipython2",
   "version": "2.7.6"
  }
 },
 "nbformat": 4,
 "nbformat_minor": 0
}